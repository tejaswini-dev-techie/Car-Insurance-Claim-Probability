{
 "cells": [
  {
   "cell_type": "markdown",
   "id": "a61e3f81",
   "metadata": {},
   "source": [
    "### Project\n",
    "- Predictive Modeling for Insurance Claim Probability based on comprehensive car policy features and safety ratings"
   ]
  },
  {
   "cell_type": "markdown",
   "id": "5a1ce1e3",
   "metadata": {},
   "source": [
    "### Business Problem Statement\n",
    "- Develop a predictive model that assesses the claim probability for car insurance policies. The objective would be to understand the factors that influence claim frequency and severity in the period of six months and enable insurance companies to better assess risk and determine appropriate premiums for policyholders."
   ]
  },
  {
   "cell_type": "markdown",
   "id": "136379dd",
   "metadata": {},
   "source": [
    "### Importing Libraries"
   ]
  },
  {
   "cell_type": "code",
   "execution_count": 1,
   "id": "9eef0744",
   "metadata": {},
   "outputs": [],
   "source": [
    "# Dataset Handling\n",
    "import pandas as pd\n",
    "import numpy as np\n",
    "import re\n",
    "import sklearn\n",
    "from sklearn.utils import resample\n",
    "\n",
    "# Plotting\n",
    "import matplotlib.pyplot as plt\n",
    "import seaborn as sns\n",
    "from sklearn.model_selection import train_test_split\n",
    "from sklearn.metrics import roc_curve, roc_auc_score\n",
    "import itertools\n",
    "\n",
    "# Model Building\n",
    "import sklearn \n",
    "from sklearn.linear_model import LogisticRegression\n",
    "from sklearn.ensemble import RandomForestClassifier\n",
    "from sklearn.model_selection import RandomizedSearchCV\n",
    "from sklearn.tree import DecisionTreeClassifier\n",
    "from sklearn.neighbors import KNeighborsClassifier\n",
    "from sklearn.naive_bayes import GaussianNB\n",
    "\n",
    "# Metrics evaluation \n",
    "from sklearn.metrics import accuracy_score,classification_report,confusion_matrix\n",
    "\n",
    "import warnings\n",
    "warnings.filterwarnings(\"ignore\")"
   ]
  },
  {
   "cell_type": "markdown",
   "id": "9c83801d",
   "metadata": {},
   "source": [
    "### Loading Dataset"
   ]
  },
  {
   "cell_type": "code",
   "execution_count": 2,
   "id": "4b520e4e",
   "metadata": {},
   "outputs": [
    {
     "name": "stdout",
     "output_type": "stream",
     "text": [
      "(58592, 44)\n"
     ]
    }
   ],
   "source": [
    "# Returns dimensionality of dataset to understand the total number of Rows and Colums\n",
    "df = pd.read_csv(r\"/home/tejaswinidev/Downloads/Insurance_Data.csv\",)\n",
    "print(df.shape) "
   ]
  },
  {
   "cell_type": "markdown",
   "id": "90eb8d48",
   "metadata": {},
   "source": [
    "- Total number of Rows: 58592\n",
    "- Toal No of Columns: 44\n",
    "- 43 Predictor Variables and 1 Target Variable"
   ]
  },
  {
   "cell_type": "markdown",
   "id": "48a3832e",
   "metadata": {},
   "source": [
    "### Data Insights"
   ]
  },
  {
   "cell_type": "code",
   "execution_count": 3,
   "id": "f4c5f365",
   "metadata": {},
   "outputs": [
    {
     "data": {
      "text/html": [
       "<div>\n",
       "<style scoped>\n",
       "    .dataframe tbody tr th:only-of-type {\n",
       "        vertical-align: middle;\n",
       "    }\n",
       "\n",
       "    .dataframe tbody tr th {\n",
       "        vertical-align: top;\n",
       "    }\n",
       "\n",
       "    .dataframe thead th {\n",
       "        text-align: right;\n",
       "    }\n",
       "</style>\n",
       "<table border=\"1\" class=\"dataframe\">\n",
       "  <thead>\n",
       "    <tr style=\"text-align: right;\">\n",
       "      <th></th>\n",
       "      <th>policy_id</th>\n",
       "      <th>policy_tenure</th>\n",
       "      <th>age_of_car</th>\n",
       "      <th>age_of_policyholder</th>\n",
       "      <th>area_cluster</th>\n",
       "      <th>population_density</th>\n",
       "      <th>make</th>\n",
       "      <th>segment</th>\n",
       "      <th>model</th>\n",
       "      <th>fuel_type</th>\n",
       "      <th>...</th>\n",
       "      <th>is_brake_assist</th>\n",
       "      <th>is_power_door_locks</th>\n",
       "      <th>is_central_locking</th>\n",
       "      <th>is_power_steering</th>\n",
       "      <th>is_driver_seat_height_adjustable</th>\n",
       "      <th>is_day_night_rear_view_mirror</th>\n",
       "      <th>is_ecw</th>\n",
       "      <th>is_speed_alert</th>\n",
       "      <th>ncap_rating</th>\n",
       "      <th>is_claim</th>\n",
       "    </tr>\n",
       "  </thead>\n",
       "  <tbody>\n",
       "    <tr>\n",
       "      <th>0</th>\n",
       "      <td>ID00001</td>\n",
       "      <td>0.515874</td>\n",
       "      <td>0.05</td>\n",
       "      <td>0.644231</td>\n",
       "      <td>C1</td>\n",
       "      <td>4990</td>\n",
       "      <td>1</td>\n",
       "      <td>A</td>\n",
       "      <td>M1</td>\n",
       "      <td>CNG</td>\n",
       "      <td>...</td>\n",
       "      <td>No</td>\n",
       "      <td>No</td>\n",
       "      <td>No</td>\n",
       "      <td>Yes</td>\n",
       "      <td>No</td>\n",
       "      <td>No</td>\n",
       "      <td>No</td>\n",
       "      <td>Yes</td>\n",
       "      <td>0</td>\n",
       "      <td>0</td>\n",
       "    </tr>\n",
       "    <tr>\n",
       "      <th>1</th>\n",
       "      <td>ID00002</td>\n",
       "      <td>0.672619</td>\n",
       "      <td>0.02</td>\n",
       "      <td>0.375000</td>\n",
       "      <td>C2</td>\n",
       "      <td>27003</td>\n",
       "      <td>1</td>\n",
       "      <td>A</td>\n",
       "      <td>M1</td>\n",
       "      <td>CNG</td>\n",
       "      <td>...</td>\n",
       "      <td>No</td>\n",
       "      <td>No</td>\n",
       "      <td>No</td>\n",
       "      <td>Yes</td>\n",
       "      <td>No</td>\n",
       "      <td>No</td>\n",
       "      <td>No</td>\n",
       "      <td>Yes</td>\n",
       "      <td>0</td>\n",
       "      <td>0</td>\n",
       "    </tr>\n",
       "    <tr>\n",
       "      <th>2</th>\n",
       "      <td>ID00003</td>\n",
       "      <td>0.841110</td>\n",
       "      <td>0.02</td>\n",
       "      <td>0.384615</td>\n",
       "      <td>C3</td>\n",
       "      <td>4076</td>\n",
       "      <td>1</td>\n",
       "      <td>A</td>\n",
       "      <td>M1</td>\n",
       "      <td>CNG</td>\n",
       "      <td>...</td>\n",
       "      <td>No</td>\n",
       "      <td>No</td>\n",
       "      <td>No</td>\n",
       "      <td>Yes</td>\n",
       "      <td>No</td>\n",
       "      <td>No</td>\n",
       "      <td>No</td>\n",
       "      <td>Yes</td>\n",
       "      <td>0</td>\n",
       "      <td>0</td>\n",
       "    </tr>\n",
       "    <tr>\n",
       "      <th>3</th>\n",
       "      <td>ID00004</td>\n",
       "      <td>0.900277</td>\n",
       "      <td>0.11</td>\n",
       "      <td>0.432692</td>\n",
       "      <td>C4</td>\n",
       "      <td>21622</td>\n",
       "      <td>1</td>\n",
       "      <td>C1</td>\n",
       "      <td>M2</td>\n",
       "      <td>Petrol</td>\n",
       "      <td>...</td>\n",
       "      <td>Yes</td>\n",
       "      <td>Yes</td>\n",
       "      <td>Yes</td>\n",
       "      <td>Yes</td>\n",
       "      <td>Yes</td>\n",
       "      <td>Yes</td>\n",
       "      <td>Yes</td>\n",
       "      <td>Yes</td>\n",
       "      <td>2</td>\n",
       "      <td>0</td>\n",
       "    </tr>\n",
       "    <tr>\n",
       "      <th>4</th>\n",
       "      <td>ID00005</td>\n",
       "      <td>0.596403</td>\n",
       "      <td>0.11</td>\n",
       "      <td>0.634615</td>\n",
       "      <td>C5</td>\n",
       "      <td>34738</td>\n",
       "      <td>2</td>\n",
       "      <td>A</td>\n",
       "      <td>M3</td>\n",
       "      <td>Petrol</td>\n",
       "      <td>...</td>\n",
       "      <td>No</td>\n",
       "      <td>Yes</td>\n",
       "      <td>Yes</td>\n",
       "      <td>Yes</td>\n",
       "      <td>No</td>\n",
       "      <td>Yes</td>\n",
       "      <td>Yes</td>\n",
       "      <td>Yes</td>\n",
       "      <td>2</td>\n",
       "      <td>0</td>\n",
       "    </tr>\n",
       "  </tbody>\n",
       "</table>\n",
       "<p>5 rows × 44 columns</p>\n",
       "</div>"
      ],
      "text/plain": [
       "  policy_id  policy_tenure  age_of_car  age_of_policyholder area_cluster  \\\n",
       "0   ID00001       0.515874        0.05             0.644231           C1   \n",
       "1   ID00002       0.672619        0.02             0.375000           C2   \n",
       "2   ID00003       0.841110        0.02             0.384615           C3   \n",
       "3   ID00004       0.900277        0.11             0.432692           C4   \n",
       "4   ID00005       0.596403        0.11             0.634615           C5   \n",
       "\n",
       "   population_density  make segment model fuel_type  ... is_brake_assist  \\\n",
       "0                4990     1       A    M1       CNG  ...              No   \n",
       "1               27003     1       A    M1       CNG  ...              No   \n",
       "2                4076     1       A    M1       CNG  ...              No   \n",
       "3               21622     1      C1    M2    Petrol  ...             Yes   \n",
       "4               34738     2       A    M3    Petrol  ...              No   \n",
       "\n",
       "  is_power_door_locks is_central_locking  is_power_steering  \\\n",
       "0                  No                 No                Yes   \n",
       "1                  No                 No                Yes   \n",
       "2                  No                 No                Yes   \n",
       "3                 Yes                Yes                Yes   \n",
       "4                 Yes                Yes                Yes   \n",
       "\n",
       "  is_driver_seat_height_adjustable is_day_night_rear_view_mirror is_ecw  \\\n",
       "0                               No                            No     No   \n",
       "1                               No                            No     No   \n",
       "2                               No                            No     No   \n",
       "3                              Yes                           Yes    Yes   \n",
       "4                               No                           Yes    Yes   \n",
       "\n",
       "  is_speed_alert ncap_rating is_claim  \n",
       "0            Yes           0        0  \n",
       "1            Yes           0        0  \n",
       "2            Yes           0        0  \n",
       "3            Yes           2        0  \n",
       "4            Yes           2        0  \n",
       "\n",
       "[5 rows x 44 columns]"
      ]
     },
     "execution_count": 3,
     "metadata": {},
     "output_type": "execute_result"
    }
   ],
   "source": [
    "df.head()"
   ]
  },
  {
   "cell_type": "code",
   "execution_count": 4,
   "id": "b906f494",
   "metadata": {},
   "outputs": [
    {
     "data": {
      "text/html": [
       "<div>\n",
       "<style scoped>\n",
       "    .dataframe tbody tr th:only-of-type {\n",
       "        vertical-align: middle;\n",
       "    }\n",
       "\n",
       "    .dataframe tbody tr th {\n",
       "        vertical-align: top;\n",
       "    }\n",
       "\n",
       "    .dataframe thead th {\n",
       "        text-align: right;\n",
       "    }\n",
       "</style>\n",
       "<table border=\"1\" class=\"dataframe\">\n",
       "  <thead>\n",
       "    <tr style=\"text-align: right;\">\n",
       "      <th></th>\n",
       "      <th>policy_id</th>\n",
       "      <th>policy_tenure</th>\n",
       "      <th>age_of_car</th>\n",
       "      <th>age_of_policyholder</th>\n",
       "      <th>area_cluster</th>\n",
       "      <th>population_density</th>\n",
       "      <th>make</th>\n",
       "      <th>segment</th>\n",
       "      <th>model</th>\n",
       "      <th>fuel_type</th>\n",
       "      <th>...</th>\n",
       "      <th>is_brake_assist</th>\n",
       "      <th>is_power_door_locks</th>\n",
       "      <th>is_central_locking</th>\n",
       "      <th>is_power_steering</th>\n",
       "      <th>is_driver_seat_height_adjustable</th>\n",
       "      <th>is_day_night_rear_view_mirror</th>\n",
       "      <th>is_ecw</th>\n",
       "      <th>is_speed_alert</th>\n",
       "      <th>ncap_rating</th>\n",
       "      <th>is_claim</th>\n",
       "    </tr>\n",
       "  </thead>\n",
       "  <tbody>\n",
       "    <tr>\n",
       "      <th>58587</th>\n",
       "      <td>ID58588</td>\n",
       "      <td>0.355089</td>\n",
       "      <td>0.13</td>\n",
       "      <td>0.644231</td>\n",
       "      <td>C8</td>\n",
       "      <td>8794</td>\n",
       "      <td>2</td>\n",
       "      <td>A</td>\n",
       "      <td>M3</td>\n",
       "      <td>Petrol</td>\n",
       "      <td>...</td>\n",
       "      <td>No</td>\n",
       "      <td>Yes</td>\n",
       "      <td>Yes</td>\n",
       "      <td>Yes</td>\n",
       "      <td>No</td>\n",
       "      <td>Yes</td>\n",
       "      <td>Yes</td>\n",
       "      <td>Yes</td>\n",
       "      <td>2</td>\n",
       "      <td>0</td>\n",
       "    </tr>\n",
       "    <tr>\n",
       "      <th>58588</th>\n",
       "      <td>ID58589</td>\n",
       "      <td>1.199642</td>\n",
       "      <td>0.02</td>\n",
       "      <td>0.519231</td>\n",
       "      <td>C14</td>\n",
       "      <td>7788</td>\n",
       "      <td>1</td>\n",
       "      <td>A</td>\n",
       "      <td>M1</td>\n",
       "      <td>CNG</td>\n",
       "      <td>...</td>\n",
       "      <td>No</td>\n",
       "      <td>No</td>\n",
       "      <td>No</td>\n",
       "      <td>Yes</td>\n",
       "      <td>No</td>\n",
       "      <td>No</td>\n",
       "      <td>No</td>\n",
       "      <td>Yes</td>\n",
       "      <td>0</td>\n",
       "      <td>0</td>\n",
       "    </tr>\n",
       "    <tr>\n",
       "      <th>58589</th>\n",
       "      <td>ID58590</td>\n",
       "      <td>1.162273</td>\n",
       "      <td>0.05</td>\n",
       "      <td>0.451923</td>\n",
       "      <td>C5</td>\n",
       "      <td>34738</td>\n",
       "      <td>1</td>\n",
       "      <td>A</td>\n",
       "      <td>M1</td>\n",
       "      <td>CNG</td>\n",
       "      <td>...</td>\n",
       "      <td>No</td>\n",
       "      <td>No</td>\n",
       "      <td>No</td>\n",
       "      <td>Yes</td>\n",
       "      <td>No</td>\n",
       "      <td>No</td>\n",
       "      <td>No</td>\n",
       "      <td>Yes</td>\n",
       "      <td>0</td>\n",
       "      <td>0</td>\n",
       "    </tr>\n",
       "    <tr>\n",
       "      <th>58590</th>\n",
       "      <td>ID58591</td>\n",
       "      <td>1.236307</td>\n",
       "      <td>0.14</td>\n",
       "      <td>0.557692</td>\n",
       "      <td>C8</td>\n",
       "      <td>8794</td>\n",
       "      <td>1</td>\n",
       "      <td>B2</td>\n",
       "      <td>M6</td>\n",
       "      <td>Petrol</td>\n",
       "      <td>...</td>\n",
       "      <td>Yes</td>\n",
       "      <td>Yes</td>\n",
       "      <td>Yes</td>\n",
       "      <td>Yes</td>\n",
       "      <td>Yes</td>\n",
       "      <td>Yes</td>\n",
       "      <td>Yes</td>\n",
       "      <td>Yes</td>\n",
       "      <td>2</td>\n",
       "      <td>0</td>\n",
       "    </tr>\n",
       "    <tr>\n",
       "      <th>58591</th>\n",
       "      <td>ID58592</td>\n",
       "      <td>0.124429</td>\n",
       "      <td>0.02</td>\n",
       "      <td>0.442308</td>\n",
       "      <td>C8</td>\n",
       "      <td>8794</td>\n",
       "      <td>3</td>\n",
       "      <td>C2</td>\n",
       "      <td>M4</td>\n",
       "      <td>Diesel</td>\n",
       "      <td>...</td>\n",
       "      <td>Yes</td>\n",
       "      <td>Yes</td>\n",
       "      <td>Yes</td>\n",
       "      <td>Yes</td>\n",
       "      <td>Yes</td>\n",
       "      <td>No</td>\n",
       "      <td>Yes</td>\n",
       "      <td>Yes</td>\n",
       "      <td>3</td>\n",
       "      <td>0</td>\n",
       "    </tr>\n",
       "  </tbody>\n",
       "</table>\n",
       "<p>5 rows × 44 columns</p>\n",
       "</div>"
      ],
      "text/plain": [
       "      policy_id  policy_tenure  age_of_car  age_of_policyholder area_cluster  \\\n",
       "58587   ID58588       0.355089        0.13             0.644231           C8   \n",
       "58588   ID58589       1.199642        0.02             0.519231          C14   \n",
       "58589   ID58590       1.162273        0.05             0.451923           C5   \n",
       "58590   ID58591       1.236307        0.14             0.557692           C8   \n",
       "58591   ID58592       0.124429        0.02             0.442308           C8   \n",
       "\n",
       "       population_density  make segment model fuel_type  ... is_brake_assist  \\\n",
       "58587                8794     2       A    M3    Petrol  ...              No   \n",
       "58588                7788     1       A    M1       CNG  ...              No   \n",
       "58589               34738     1       A    M1       CNG  ...              No   \n",
       "58590                8794     1      B2    M6    Petrol  ...             Yes   \n",
       "58591                8794     3      C2    M4    Diesel  ...             Yes   \n",
       "\n",
       "      is_power_door_locks is_central_locking  is_power_steering  \\\n",
       "58587                 Yes                Yes                Yes   \n",
       "58588                  No                 No                Yes   \n",
       "58589                  No                 No                Yes   \n",
       "58590                 Yes                Yes                Yes   \n",
       "58591                 Yes                Yes                Yes   \n",
       "\n",
       "      is_driver_seat_height_adjustable is_day_night_rear_view_mirror is_ecw  \\\n",
       "58587                               No                           Yes    Yes   \n",
       "58588                               No                            No     No   \n",
       "58589                               No                            No     No   \n",
       "58590                              Yes                           Yes    Yes   \n",
       "58591                              Yes                            No    Yes   \n",
       "\n",
       "      is_speed_alert ncap_rating is_claim  \n",
       "58587            Yes           2        0  \n",
       "58588            Yes           0        0  \n",
       "58589            Yes           0        0  \n",
       "58590            Yes           2        0  \n",
       "58591            Yes           3        0  \n",
       "\n",
       "[5 rows x 44 columns]"
      ]
     },
     "execution_count": 4,
     "metadata": {},
     "output_type": "execute_result"
    }
   ],
   "source": [
    "df.tail()"
   ]
  },
  {
   "cell_type": "markdown",
   "id": "4c5e4d16",
   "metadata": {},
   "source": [
    "### Structural Information"
   ]
  },
  {
   "cell_type": "code",
   "execution_count": 5,
   "id": "7b7dfc3f",
   "metadata": {},
   "outputs": [
    {
     "name": "stdout",
     "output_type": "stream",
     "text": [
      "<class 'pandas.core.frame.DataFrame'>\n",
      "RangeIndex: 58592 entries, 0 to 58591\n",
      "Data columns (total 44 columns):\n",
      " #   Column                            Non-Null Count  Dtype  \n",
      "---  ------                            --------------  -----  \n",
      " 0   policy_id                         58592 non-null  object \n",
      " 1   policy_tenure                     58592 non-null  float64\n",
      " 2   age_of_car                        58592 non-null  float64\n",
      " 3   age_of_policyholder               58592 non-null  float64\n",
      " 4   area_cluster                      58592 non-null  object \n",
      " 5   population_density                58592 non-null  int64  \n",
      " 6   make                              58592 non-null  int64  \n",
      " 7   segment                           58592 non-null  object \n",
      " 8   model                             58592 non-null  object \n",
      " 9   fuel_type                         58592 non-null  object \n",
      " 10  max_torque                        58592 non-null  object \n",
      " 11  max_power                         58592 non-null  object \n",
      " 12  engine_type                       58592 non-null  object \n",
      " 13  airbags                           58592 non-null  int64  \n",
      " 14  is_esc                            58592 non-null  object \n",
      " 15  is_adjustable_steering            58592 non-null  object \n",
      " 16  is_tpms                           58592 non-null  object \n",
      " 17  is_parking_sensors                58592 non-null  object \n",
      " 18  is_parking_camera                 58592 non-null  object \n",
      " 19  rear_brakes_type                  58592 non-null  object \n",
      " 20  displacement                      58592 non-null  int64  \n",
      " 21  cylinder                          58592 non-null  int64  \n",
      " 22  transmission_type                 58592 non-null  object \n",
      " 23  gear_box                          58592 non-null  int64  \n",
      " 24  steering_type                     58592 non-null  object \n",
      " 25  turning_radius                    58592 non-null  float64\n",
      " 26  length                            58592 non-null  int64  \n",
      " 27  width                             58592 non-null  int64  \n",
      " 28  height                            58592 non-null  int64  \n",
      " 29  gross_weight                      58592 non-null  int64  \n",
      " 30  is_front_fog_lights               58592 non-null  object \n",
      " 31  is_rear_window_wiper              58592 non-null  object \n",
      " 32  is_rear_window_washer             58592 non-null  object \n",
      " 33  is_rear_window_defogger           58592 non-null  object \n",
      " 34  is_brake_assist                   58592 non-null  object \n",
      " 35  is_power_door_locks               58592 non-null  object \n",
      " 36  is_central_locking                58592 non-null  object \n",
      " 37  is_power_steering                 58592 non-null  object \n",
      " 38  is_driver_seat_height_adjustable  58592 non-null  object \n",
      " 39  is_day_night_rear_view_mirror     58592 non-null  object \n",
      " 40  is_ecw                            58592 non-null  object \n",
      " 41  is_speed_alert                    58592 non-null  object \n",
      " 42  ncap_rating                       58592 non-null  int64  \n",
      " 43  is_claim                          58592 non-null  int64  \n",
      "dtypes: float64(4), int64(12), object(28)\n",
      "memory usage: 19.7+ MB\n"
     ]
    }
   ],
   "source": [
    "# Returns information about the data type, non-null values and memory usage.\n",
    "df.info()"
   ]
  },
  {
   "cell_type": "markdown",
   "id": "dd54e98a",
   "metadata": {},
   "source": [
    "- Dataset consists of 16 numeric, 28 categorical values \n",
    "- No missing values"
   ]
  },
  {
   "cell_type": "markdown",
   "id": "d53e7a0f",
   "metadata": {},
   "source": [
    "#### Descriptive information of the dataset\n",
    "- This information includes statistics that summarize the central tendency of the variable, their dispersion, the \n",
    "presence of empty values and their shape. "
   ]
  },
  {
   "cell_type": "code",
   "execution_count": 6,
   "id": "5e3a88e1",
   "metadata": {},
   "outputs": [
    {
     "data": {
      "text/html": [
       "<div>\n",
       "<style scoped>\n",
       "    .dataframe tbody tr th:only-of-type {\n",
       "        vertical-align: middle;\n",
       "    }\n",
       "\n",
       "    .dataframe tbody tr th {\n",
       "        vertical-align: top;\n",
       "    }\n",
       "\n",
       "    .dataframe thead th {\n",
       "        text-align: right;\n",
       "    }\n",
       "</style>\n",
       "<table border=\"1\" class=\"dataframe\">\n",
       "  <thead>\n",
       "    <tr style=\"text-align: right;\">\n",
       "      <th></th>\n",
       "      <th>policy_tenure</th>\n",
       "      <th>age_of_car</th>\n",
       "      <th>age_of_policyholder</th>\n",
       "      <th>population_density</th>\n",
       "      <th>make</th>\n",
       "      <th>airbags</th>\n",
       "      <th>displacement</th>\n",
       "      <th>cylinder</th>\n",
       "      <th>gear_box</th>\n",
       "      <th>turning_radius</th>\n",
       "      <th>length</th>\n",
       "      <th>width</th>\n",
       "      <th>height</th>\n",
       "      <th>gross_weight</th>\n",
       "      <th>ncap_rating</th>\n",
       "      <th>is_claim</th>\n",
       "    </tr>\n",
       "  </thead>\n",
       "  <tbody>\n",
       "    <tr>\n",
       "      <th>count</th>\n",
       "      <td>58592.000000</td>\n",
       "      <td>58592.000000</td>\n",
       "      <td>58592.000000</td>\n",
       "      <td>58592.000000</td>\n",
       "      <td>58592.000000</td>\n",
       "      <td>58592.000000</td>\n",
       "      <td>58592.000000</td>\n",
       "      <td>58592.000000</td>\n",
       "      <td>58592.000000</td>\n",
       "      <td>58592.000000</td>\n",
       "      <td>58592.000000</td>\n",
       "      <td>58592.000000</td>\n",
       "      <td>58592.00000</td>\n",
       "      <td>58592.000000</td>\n",
       "      <td>58592.000000</td>\n",
       "      <td>58592.000000</td>\n",
       "    </tr>\n",
       "    <tr>\n",
       "      <th>mean</th>\n",
       "      <td>0.611246</td>\n",
       "      <td>0.069424</td>\n",
       "      <td>0.469420</td>\n",
       "      <td>18826.858667</td>\n",
       "      <td>1.763722</td>\n",
       "      <td>3.137066</td>\n",
       "      <td>1162.355851</td>\n",
       "      <td>3.626963</td>\n",
       "      <td>5.245443</td>\n",
       "      <td>4.852893</td>\n",
       "      <td>3850.476891</td>\n",
       "      <td>1672.233667</td>\n",
       "      <td>1553.33537</td>\n",
       "      <td>1385.276813</td>\n",
       "      <td>1.759950</td>\n",
       "      <td>0.063968</td>\n",
       "    </tr>\n",
       "    <tr>\n",
       "      <th>std</th>\n",
       "      <td>0.414156</td>\n",
       "      <td>0.056721</td>\n",
       "      <td>0.122886</td>\n",
       "      <td>17660.174792</td>\n",
       "      <td>1.136988</td>\n",
       "      <td>1.832641</td>\n",
       "      <td>266.304786</td>\n",
       "      <td>0.483616</td>\n",
       "      <td>0.430353</td>\n",
       "      <td>0.228061</td>\n",
       "      <td>311.457119</td>\n",
       "      <td>112.089135</td>\n",
       "      <td>79.62227</td>\n",
       "      <td>212.423085</td>\n",
       "      <td>1.389576</td>\n",
       "      <td>0.244698</td>\n",
       "    </tr>\n",
       "    <tr>\n",
       "      <th>min</th>\n",
       "      <td>0.002735</td>\n",
       "      <td>0.000000</td>\n",
       "      <td>0.288462</td>\n",
       "      <td>290.000000</td>\n",
       "      <td>1.000000</td>\n",
       "      <td>1.000000</td>\n",
       "      <td>796.000000</td>\n",
       "      <td>3.000000</td>\n",
       "      <td>5.000000</td>\n",
       "      <td>4.500000</td>\n",
       "      <td>3445.000000</td>\n",
       "      <td>1475.000000</td>\n",
       "      <td>1475.00000</td>\n",
       "      <td>1051.000000</td>\n",
       "      <td>0.000000</td>\n",
       "      <td>0.000000</td>\n",
       "    </tr>\n",
       "    <tr>\n",
       "      <th>25%</th>\n",
       "      <td>0.210250</td>\n",
       "      <td>0.020000</td>\n",
       "      <td>0.365385</td>\n",
       "      <td>6112.000000</td>\n",
       "      <td>1.000000</td>\n",
       "      <td>2.000000</td>\n",
       "      <td>796.000000</td>\n",
       "      <td>3.000000</td>\n",
       "      <td>5.000000</td>\n",
       "      <td>4.600000</td>\n",
       "      <td>3445.000000</td>\n",
       "      <td>1515.000000</td>\n",
       "      <td>1475.00000</td>\n",
       "      <td>1185.000000</td>\n",
       "      <td>0.000000</td>\n",
       "      <td>0.000000</td>\n",
       "    </tr>\n",
       "    <tr>\n",
       "      <th>50%</th>\n",
       "      <td>0.573792</td>\n",
       "      <td>0.060000</td>\n",
       "      <td>0.451923</td>\n",
       "      <td>8794.000000</td>\n",
       "      <td>1.000000</td>\n",
       "      <td>2.000000</td>\n",
       "      <td>1197.000000</td>\n",
       "      <td>4.000000</td>\n",
       "      <td>5.000000</td>\n",
       "      <td>4.800000</td>\n",
       "      <td>3845.000000</td>\n",
       "      <td>1735.000000</td>\n",
       "      <td>1530.00000</td>\n",
       "      <td>1335.000000</td>\n",
       "      <td>2.000000</td>\n",
       "      <td>0.000000</td>\n",
       "    </tr>\n",
       "    <tr>\n",
       "      <th>75%</th>\n",
       "      <td>1.039104</td>\n",
       "      <td>0.110000</td>\n",
       "      <td>0.548077</td>\n",
       "      <td>27003.000000</td>\n",
       "      <td>3.000000</td>\n",
       "      <td>6.000000</td>\n",
       "      <td>1493.000000</td>\n",
       "      <td>4.000000</td>\n",
       "      <td>5.000000</td>\n",
       "      <td>5.000000</td>\n",
       "      <td>3995.000000</td>\n",
       "      <td>1755.000000</td>\n",
       "      <td>1635.00000</td>\n",
       "      <td>1510.000000</td>\n",
       "      <td>3.000000</td>\n",
       "      <td>0.000000</td>\n",
       "    </tr>\n",
       "    <tr>\n",
       "      <th>max</th>\n",
       "      <td>1.396641</td>\n",
       "      <td>1.000000</td>\n",
       "      <td>1.000000</td>\n",
       "      <td>73430.000000</td>\n",
       "      <td>5.000000</td>\n",
       "      <td>6.000000</td>\n",
       "      <td>1498.000000</td>\n",
       "      <td>4.000000</td>\n",
       "      <td>6.000000</td>\n",
       "      <td>5.200000</td>\n",
       "      <td>4300.000000</td>\n",
       "      <td>1811.000000</td>\n",
       "      <td>1825.00000</td>\n",
       "      <td>1720.000000</td>\n",
       "      <td>5.000000</td>\n",
       "      <td>1.000000</td>\n",
       "    </tr>\n",
       "  </tbody>\n",
       "</table>\n",
       "</div>"
      ],
      "text/plain": [
       "       policy_tenure    age_of_car  age_of_policyholder  population_density  \\\n",
       "count   58592.000000  58592.000000         58592.000000        58592.000000   \n",
       "mean        0.611246      0.069424             0.469420        18826.858667   \n",
       "std         0.414156      0.056721             0.122886        17660.174792   \n",
       "min         0.002735      0.000000             0.288462          290.000000   \n",
       "25%         0.210250      0.020000             0.365385         6112.000000   \n",
       "50%         0.573792      0.060000             0.451923         8794.000000   \n",
       "75%         1.039104      0.110000             0.548077        27003.000000   \n",
       "max         1.396641      1.000000             1.000000        73430.000000   \n",
       "\n",
       "               make       airbags  displacement      cylinder      gear_box  \\\n",
       "count  58592.000000  58592.000000  58592.000000  58592.000000  58592.000000   \n",
       "mean       1.763722      3.137066   1162.355851      3.626963      5.245443   \n",
       "std        1.136988      1.832641    266.304786      0.483616      0.430353   \n",
       "min        1.000000      1.000000    796.000000      3.000000      5.000000   \n",
       "25%        1.000000      2.000000    796.000000      3.000000      5.000000   \n",
       "50%        1.000000      2.000000   1197.000000      4.000000      5.000000   \n",
       "75%        3.000000      6.000000   1493.000000      4.000000      5.000000   \n",
       "max        5.000000      6.000000   1498.000000      4.000000      6.000000   \n",
       "\n",
       "       turning_radius        length         width       height  gross_weight  \\\n",
       "count    58592.000000  58592.000000  58592.000000  58592.00000  58592.000000   \n",
       "mean         4.852893   3850.476891   1672.233667   1553.33537   1385.276813   \n",
       "std          0.228061    311.457119    112.089135     79.62227    212.423085   \n",
       "min          4.500000   3445.000000   1475.000000   1475.00000   1051.000000   \n",
       "25%          4.600000   3445.000000   1515.000000   1475.00000   1185.000000   \n",
       "50%          4.800000   3845.000000   1735.000000   1530.00000   1335.000000   \n",
       "75%          5.000000   3995.000000   1755.000000   1635.00000   1510.000000   \n",
       "max          5.200000   4300.000000   1811.000000   1825.00000   1720.000000   \n",
       "\n",
       "        ncap_rating      is_claim  \n",
       "count  58592.000000  58592.000000  \n",
       "mean       1.759950      0.063968  \n",
       "std        1.389576      0.244698  \n",
       "min        0.000000      0.000000  \n",
       "25%        0.000000      0.000000  \n",
       "50%        2.000000      0.000000  \n",
       "75%        3.000000      0.000000  \n",
       "max        5.000000      1.000000  "
      ]
     },
     "execution_count": 6,
     "metadata": {},
     "output_type": "execute_result"
    }
   ],
   "source": [
    "df.describe()"
   ]
  },
  {
   "cell_type": "markdown",
   "id": "9c41d28f",
   "metadata": {},
   "source": [
    "### List of Columns"
   ]
  },
  {
   "cell_type": "code",
   "execution_count": 7,
   "id": "32519fac",
   "metadata": {},
   "outputs": [
    {
     "data": {
      "text/plain": [
       "Index(['policy_id', 'policy_tenure', 'age_of_car', 'age_of_policyholder',\n",
       "       'area_cluster', 'population_density', 'make', 'segment', 'model',\n",
       "       'fuel_type', 'max_torque', 'max_power', 'engine_type', 'airbags',\n",
       "       'is_esc', 'is_adjustable_steering', 'is_tpms', 'is_parking_sensors',\n",
       "       'is_parking_camera', 'rear_brakes_type', 'displacement', 'cylinder',\n",
       "       'transmission_type', 'gear_box', 'steering_type', 'turning_radius',\n",
       "       'length', 'width', 'height', 'gross_weight', 'is_front_fog_lights',\n",
       "       'is_rear_window_wiper', 'is_rear_window_washer',\n",
       "       'is_rear_window_defogger', 'is_brake_assist', 'is_power_door_locks',\n",
       "       'is_central_locking', 'is_power_steering',\n",
       "       'is_driver_seat_height_adjustable', 'is_day_night_rear_view_mirror',\n",
       "       'is_ecw', 'is_speed_alert', 'ncap_rating', 'is_claim'],\n",
       "      dtype='object')"
      ]
     },
     "execution_count": 7,
     "metadata": {},
     "output_type": "execute_result"
    }
   ],
   "source": [
    "df.columns"
   ]
  },
  {
   "cell_type": "markdown",
   "id": "8045a6e1",
   "metadata": {},
   "source": [
    "### Understanding different features\n",
    "\n",
    "1. **Policy Tenure**: Longer policy tenure may lead to a lower claim probability as it indicates loyalty and responsible policyholders.\n",
    "2. **Age of Car**: Older cars may have higher claim probabilities due to wear and tear.\n",
    "3. **Age of Policyholder**: Younger policyholders might have a higher claim probability as they may be less experienced drivers.\n",
    "4. **Area Cluster**: High-density urban areas may have more claims due to traffic and theft.\n",
    "5. **Population Density**: Higher population density can lead to more accidents and claims.\n",
    "6. **Make**: Some car makes are associated with higher safety, potentially reducing claim probability.\n",
    "7. **Segment**: Larger or more luxurious car segments may have lower claim probabilities due to responsible drivers.\n",
    "8. **Fuel Type**: Diesel cars may have more claims due to their usage in commercial vehicles.\n",
    "9. **Max Torque and Max Power**: Higher engine performance may increase claim probabilities due to riskier driving behavior.\n",
    "10. **Engine Type**: V-type engines may be found in sports cars, potentially leading to more claims.\n",
    "11. **Airbags**: More airbags can lower claim probability by enhancing safety.\n",
    "12. **Electronic Stability Control (ESC)**: Cars with ESC may have lower claim probabilities due to better control in adverse conditions.\n",
    "13. **Adjustable Steering**: It may not significantly affect claim probability.\n",
    "14. **Tire Pressure Monitoring System (TPMS)**: TPMS can lower claims by preventing tire-related accidents.\n",
    "15. **Parking Sensors and Camera**: They can reduce collision claims by aiding parking.\n",
    "16. **Rear Brakes Type**: Brake type might impact stopping distances and collision severity.\n",
    "17. **Displacement and Cylinder**: Higher values may correlate with more powerful cars and higher claim probabilities.\n",
    "18. **Transmission Type and Gearbox**: Automatic transmissions may lead to safer driving and lower claims.\n",
    "19. **Steering Type and Turning Radius**: They might influence maneuverability and claim probability.\n",
    "20. **Dimensions (Length, Width, Height, Gross Weight)**: Larger dimensions and weight can impact accident severity and claim amount.\n",
    "21. **Front Fog Lights**: They can improve visibility and reduce claim probability.\n",
    "22. **Rear Window Features**: They may not significantly affect claim probability.\n",
    "23. **Brake Assist**: Brake assist can reduce collision severity and claim amounts.\n",
    "24. **Power Door Locks and Central Locking**: They can deter theft and reduce claim probability.\n",
    "25. **Power Steering**: It may not significantly affect claim probability.\n",
    "26. **Driver Seat Height Adjustment**: It can improve driver visibility and safety.\n",
    "27. **Day/Night Rearview Mirror**: It can reduce glare-related accidents.\n",
    "28. **Electronic Crash Warning (ECW) System**: ECW can lower claim probability by alerting drivers to potential collisions.\n",
    "29. **Speed Alert System**: It can encourage safer driving and reduce speeding-related claims.\n",
    "30. **NCAP Rating**: Higher NCAP ratings indicate safer cars with lower claim probabilities."
   ]
  },
  {
   "cell_type": "markdown",
   "id": "110a6c64",
   "metadata": {},
   "source": [
    "### Data Cleaning"
   ]
  },
  {
   "cell_type": "code",
   "execution_count": 8,
   "id": "734f6583",
   "metadata": {},
   "outputs": [
    {
     "data": {
      "text/plain": [
       "policy_id                           0\n",
       "policy_tenure                       0\n",
       "age_of_car                          0\n",
       "age_of_policyholder                 0\n",
       "area_cluster                        0\n",
       "population_density                  0\n",
       "make                                0\n",
       "segment                             0\n",
       "model                               0\n",
       "fuel_type                           0\n",
       "max_torque                          0\n",
       "max_power                           0\n",
       "engine_type                         0\n",
       "airbags                             0\n",
       "is_esc                              0\n",
       "is_adjustable_steering              0\n",
       "is_tpms                             0\n",
       "is_parking_sensors                  0\n",
       "is_parking_camera                   0\n",
       "rear_brakes_type                    0\n",
       "displacement                        0\n",
       "cylinder                            0\n",
       "transmission_type                   0\n",
       "gear_box                            0\n",
       "steering_type                       0\n",
       "turning_radius                      0\n",
       "length                              0\n",
       "width                               0\n",
       "height                              0\n",
       "gross_weight                        0\n",
       "is_front_fog_lights                 0\n",
       "is_rear_window_wiper                0\n",
       "is_rear_window_washer               0\n",
       "is_rear_window_defogger             0\n",
       "is_brake_assist                     0\n",
       "is_power_door_locks                 0\n",
       "is_central_locking                  0\n",
       "is_power_steering                   0\n",
       "is_driver_seat_height_adjustable    0\n",
       "is_day_night_rear_view_mirror       0\n",
       "is_ecw                              0\n",
       "is_speed_alert                      0\n",
       "ncap_rating                         0\n",
       "is_claim                            0\n",
       "dtype: int64"
      ]
     },
     "execution_count": 8,
     "metadata": {},
     "output_type": "execute_result"
    }
   ],
   "source": [
    "df.isna().sum()"
   ]
  },
  {
   "cell_type": "markdown",
   "id": "332d542d",
   "metadata": {},
   "source": [
    "- We can observe there are no missing values"
   ]
  },
  {
   "cell_type": "markdown",
   "id": "777d2d34",
   "metadata": {},
   "source": [
    "### Dropping the unnecessary policy id column"
   ]
  },
  {
   "cell_type": "code",
   "execution_count": 9,
   "id": "55e23ea8",
   "metadata": {},
   "outputs": [],
   "source": [
    "df = df.drop('policy_id', axis=1)"
   ]
  },
  {
   "cell_type": "code",
   "execution_count": 10,
   "id": "c1d1384a",
   "metadata": {},
   "outputs": [
    {
     "data": {
      "text/plain": [
       "policy_tenure                       58592\n",
       "age_of_car                             49\n",
       "age_of_policyholder                    75\n",
       "area_cluster                           22\n",
       "population_density                     22\n",
       "make                                    5\n",
       "segment                                 6\n",
       "model                                  11\n",
       "fuel_type                               3\n",
       "max_torque                              9\n",
       "max_power                               9\n",
       "engine_type                            11\n",
       "airbags                                 3\n",
       "is_esc                                  2\n",
       "is_adjustable_steering                  2\n",
       "is_tpms                                 2\n",
       "is_parking_sensors                      2\n",
       "is_parking_camera                       2\n",
       "rear_brakes_type                        2\n",
       "displacement                            9\n",
       "cylinder                                2\n",
       "transmission_type                       2\n",
       "gear_box                                2\n",
       "steering_type                           3\n",
       "turning_radius                          9\n",
       "length                                  9\n",
       "width                                  10\n",
       "height                                 11\n",
       "gross_weight                           10\n",
       "is_front_fog_lights                     2\n",
       "is_rear_window_wiper                    2\n",
       "is_rear_window_washer                   2\n",
       "is_rear_window_defogger                 2\n",
       "is_brake_assist                         2\n",
       "is_power_door_locks                     2\n",
       "is_central_locking                      2\n",
       "is_power_steering                       2\n",
       "is_driver_seat_height_adjustable        2\n",
       "is_day_night_rear_view_mirror           2\n",
       "is_ecw                                  2\n",
       "is_speed_alert                          2\n",
       "ncap_rating                             5\n",
       "is_claim                                2\n",
       "dtype: int64"
      ]
     },
     "execution_count": 10,
     "metadata": {},
     "output_type": "execute_result"
    }
   ],
   "source": [
    "# unique value counts\n",
    "df.nunique()"
   ]
  },
  {
   "cell_type": "markdown",
   "id": "5aafe23a",
   "metadata": {},
   "source": [
    "### Selecting the Target Class for Insurance Claim Evaluation\n",
    "- Now, our next step involves choosing a target class to assess whether an insurance claim has been approved or denied. To do this, we will leverage the 'is_claim' attribute. The 'is_claim' attribute is a binary value that indicates whether the claim has been approved or denied."
   ]
  },
  {
   "cell_type": "code",
   "execution_count": 11,
   "id": "a2141107",
   "metadata": {},
   "outputs": [
    {
     "data": {
      "text/plain": [
       "0    54844\n",
       "1     3748\n",
       "Name: is_claim, dtype: int64"
      ]
     },
     "execution_count": 11,
     "metadata": {},
     "output_type": "execute_result"
    }
   ],
   "source": [
    "df['is_claim'].value_counts()"
   ]
  },
  {
   "cell_type": "code",
   "execution_count": 12,
   "id": "1a649e97",
   "metadata": {},
   "outputs": [
    {
     "data": {
      "text/plain": [
       "0    0.936032\n",
       "1    0.063968\n",
       "Name: is_claim, dtype: float64"
      ]
     },
     "execution_count": 12,
     "metadata": {},
     "output_type": "execute_result"
    }
   ],
   "source": [
    "df['is_claim'].value_counts(normalize=True)"
   ]
  },
  {
   "cell_type": "markdown",
   "id": "efe22d28",
   "metadata": {},
   "source": [
    "- This output confirms the distribution of the 'is_claim' column in the DataFrame, showing that there are 54,844 instances where the value is 0, indicating that the insurance claim was not claimed, and 3,748 instances where the value is 1, indicating that the insurance claim was claimed."
   ]
  },
  {
   "cell_type": "markdown",
   "id": "b62ff58e",
   "metadata": {},
   "source": [
    "###  Visual Representation"
   ]
  },
  {
   "cell_type": "code",
   "execution_count": 13,
   "id": "d8db0c9e",
   "metadata": {},
   "outputs": [
    {
     "data": {
      "image/png": "[encoded data removed]",
      "text/plain": [
       "<Figure size 432x288 with 1 Axes>"
      ]
     },
     "metadata": {},
     "output_type": "display_data"
    }
   ],
   "source": [
    "fig = plt.figure(facecolor='white')\n",
    "\n",
    "ax = fig.add_subplot(1, 1, 1, facecolor='white')\n",
    "\n",
    "plt.pie(df['is_claim'].value_counts(), labels=['No Claim', 'Claim'], radius=1, colors=['blue', 'orange'],\n",
    "        autopct='%1.1f%%', explode=[0.1, 0.15], labeldistance=1.15, startangle=45,\n",
    "        textprops={'fontsize': 15, 'fontweight': 'bold'})\n",
    "\n",
    "plt.legend(title='Outcome:', loc='upper right', bbox_to_anchor=(1.6, 1))\n",
    "\n",
    "fig.patch.set_facecolor('white')\n",
    "\n",
    "plt.show()"
   ]
  },
  {
   "cell_type": "markdown",
   "id": "19cb1d17",
   "metadata": {},
   "source": [
    "#### Next, we will generate histograms to get valuable insights from the data."
   ]
  },
  {
   "cell_type": "code",
   "execution_count": 14,
   "id": "66234c57",
   "metadata": {},
   "outputs": [
    {
     "data": {
      "image/png": "[encoded data removed]",
      "text/plain": [
       "<Figure size 864x720 with 16 Axes>"
      ]
     },
     "metadata": {
      "needs_background": "light"
     },
     "output_type": "display_data"
    }
   ],
   "source": [
    "df.hist(figsize=(12, 10))\n",
    "plt.tight_layout()  # Adjust the spacing between subplots\n",
    "plt.show()"
   ]
  },
  {
   "cell_type": "markdown",
   "id": "3e7481bb",
   "metadata": {},
   "source": [
    "### Observations\n",
    "- Most people (7000) have had their policy active for 0.1 years.\n",
    "- The majority of people opt for insurance immediately when they purchase a car.\n",
    "- Most policyholders are 0.3–0.4 years of age.\n",
    "- Most people prefer 'make 1' cars, followed by 'make 3, and the least preferred are '2, '4, and '5.\n",
    "- The number of airbags in most cars is 5. The number of airbags in most cars is \"2\" (40k+), while the 2nd most popular choice is '6' (16k approx).\n",
    "- The 1 airbag is present in almost 1000 cars, while no car has 3, 4 or 5 airbags.\n",
    "- Most cars have a ncap rating of '2' (20k+), followed by a rating of 0' (approximately 19k).\n",
    "- Cars with ratings of '4' and '5' are the safest (2.5k each)."
   ]
  },
  {
   "cell_type": "code",
   "execution_count": 15,
   "id": "331f190a",
   "metadata": {},
   "outputs": [
    {
     "data": {
      "image/png": "[encoded data removed]",
      "text/plain": [
       "<Figure size 2160x1728 with 9 Axes>"
      ]
     },
     "metadata": {
      "needs_background": "light"
     },
     "output_type": "display_data"
    }
   ],
   "source": [
    "# Create the figure and subplots\n",
    "fig, axes = plt.subplots(3,3, figsize=(30,24))\n",
    "axes = axes.flatten()\n",
    "\n",
    "cols_1=['area_cluster', 'segment', 'model', 'fuel_type', 'max_torque','max_power', 'engine_type', 'is_speed_alert']\n",
    "\n",
    "for i, column in enumerate(cols_1):\n",
    "    ax = axes[i]  # Select the current subplot\n",
    "\n",
    "    # Plot the countplot\n",
    "    sns.countplot(data=df, x=column, ax=ax, hue='is_claim')\n",
    "    ax.set_title(f'Countplot for {column}')\n",
    "    \n",
    "    ax.set_ylabel('Count')\n",
    "    ax.tick_params(axis='x', rotation=90)  # Rotate x-axis labels if need\n",
    "    \n",
    "    \n",
    "# Adjust spacing between subplots\n",
    "plt.tight_layout()\n",
    "\n",
    "# Display the plot\n",
    "plt.show()"
   ]
  },
  {
   "cell_type": "markdown",
   "id": "b7ac64e0",
   "metadata": {},
   "source": [
    "### Observations\n",
    "- The highest number of claims (about 1000) comes from area C8, second highest number of claims is from area C2 (about 700)\n",
    "- Owners of models M1, M4, and M6 have the highest claims (approximately 1000+ each).\n",
    "- There are zero claims where the speed alert system isn't present in the car."
   ]
  },
  {
   "cell_type": "markdown",
   "id": "6d07bfb4",
   "metadata": {},
   "source": [
    "### Data Preprocessing"
   ]
  },
  {
   "cell_type": "code",
   "execution_count": 16,
   "id": "cef04821",
   "metadata": {},
   "outputs": [
    {
     "data": {
      "text/plain": [
       "113Nm@4400rpm     17796\n",
       "60Nm@3500rpm      14948\n",
       "250Nm@2750rpm     14018\n",
       "82.1Nm@3400rpm     4173\n",
       "91Nm@4250rpm       2373\n",
       "200Nm@1750rpm      2114\n",
       "200Nm@3000rpm      1598\n",
       "85Nm@3000rpm       1209\n",
       "170Nm@4000rpm       363\n",
       "Name: max_torque, dtype: int64"
      ]
     },
     "execution_count": 16,
     "metadata": {},
     "output_type": "execute_result"
    }
   ],
   "source": [
    "df['max_torque'].value_counts()"
   ]
  },
  {
   "cell_type": "markdown",
   "id": "add76a61",
   "metadata": {},
   "source": [
    "### Feature Engineering - Extract new feature"
   ]
  },
  {
   "cell_type": "code",
   "execution_count": 17,
   "id": "c02f0b53",
   "metadata": {},
   "outputs": [],
   "source": [
    "# Let's derive a new feature by extracting the torque and rpm components from the aforementioned features. \n",
    "# We will calculate the 'torque/rpm ratio' to provide further insight.\n",
    "df['torque'] = df['max_torque'].apply(lambda x: re.findall(r'\\d+\\.?\\d*(?=Nm)', x)[0])\n",
    "df['rpm'] = df['max_torque'].apply(lambda x: re.findall(r'\\d+\\.?\\d*(?=rpm)', x)[0])"
   ]
  },
  {
   "cell_type": "code",
   "execution_count": 18,
   "id": "d26fade4",
   "metadata": {},
   "outputs": [
    {
     "data": {
      "text/html": [
       "<div>\n",
       "<style scoped>\n",
       "    .dataframe tbody tr th:only-of-type {\n",
       "        vertical-align: middle;\n",
       "    }\n",
       "\n",
       "    .dataframe tbody tr th {\n",
       "        vertical-align: top;\n",
       "    }\n",
       "\n",
       "    .dataframe thead th {\n",
       "        text-align: right;\n",
       "    }\n",
       "</style>\n",
       "<table border=\"1\" class=\"dataframe\">\n",
       "  <thead>\n",
       "    <tr style=\"text-align: right;\">\n",
       "      <th></th>\n",
       "      <th>policy_tenure</th>\n",
       "      <th>age_of_car</th>\n",
       "      <th>age_of_policyholder</th>\n",
       "      <th>area_cluster</th>\n",
       "      <th>population_density</th>\n",
       "      <th>make</th>\n",
       "      <th>segment</th>\n",
       "      <th>model</th>\n",
       "      <th>fuel_type</th>\n",
       "      <th>max_torque</th>\n",
       "      <th>...</th>\n",
       "      <th>is_central_locking</th>\n",
       "      <th>is_power_steering</th>\n",
       "      <th>is_driver_seat_height_adjustable</th>\n",
       "      <th>is_day_night_rear_view_mirror</th>\n",
       "      <th>is_ecw</th>\n",
       "      <th>is_speed_alert</th>\n",
       "      <th>ncap_rating</th>\n",
       "      <th>is_claim</th>\n",
       "      <th>torque</th>\n",
       "      <th>rpm</th>\n",
       "    </tr>\n",
       "  </thead>\n",
       "  <tbody>\n",
       "    <tr>\n",
       "      <th>0</th>\n",
       "      <td>0.515874</td>\n",
       "      <td>0.05</td>\n",
       "      <td>0.644231</td>\n",
       "      <td>C1</td>\n",
       "      <td>4990</td>\n",
       "      <td>1</td>\n",
       "      <td>A</td>\n",
       "      <td>M1</td>\n",
       "      <td>CNG</td>\n",
       "      <td>60Nm@3500rpm</td>\n",
       "      <td>...</td>\n",
       "      <td>No</td>\n",
       "      <td>Yes</td>\n",
       "      <td>No</td>\n",
       "      <td>No</td>\n",
       "      <td>No</td>\n",
       "      <td>Yes</td>\n",
       "      <td>0</td>\n",
       "      <td>0</td>\n",
       "      <td>60</td>\n",
       "      <td>3500</td>\n",
       "    </tr>\n",
       "    <tr>\n",
       "      <th>1</th>\n",
       "      <td>0.672619</td>\n",
       "      <td>0.02</td>\n",
       "      <td>0.375000</td>\n",
       "      <td>C2</td>\n",
       "      <td>27003</td>\n",
       "      <td>1</td>\n",
       "      <td>A</td>\n",
       "      <td>M1</td>\n",
       "      <td>CNG</td>\n",
       "      <td>60Nm@3500rpm</td>\n",
       "      <td>...</td>\n",
       "      <td>No</td>\n",
       "      <td>Yes</td>\n",
       "      <td>No</td>\n",
       "      <td>No</td>\n",
       "      <td>No</td>\n",
       "      <td>Yes</td>\n",
       "      <td>0</td>\n",
       "      <td>0</td>\n",
       "      <td>60</td>\n",
       "      <td>3500</td>\n",
       "    </tr>\n",
       "    <tr>\n",
       "      <th>2</th>\n",
       "      <td>0.841110</td>\n",
       "      <td>0.02</td>\n",
       "      <td>0.384615</td>\n",
       "      <td>C3</td>\n",
       "      <td>4076</td>\n",
       "      <td>1</td>\n",
       "      <td>A</td>\n",
       "      <td>M1</td>\n",
       "      <td>CNG</td>\n",
       "      <td>60Nm@3500rpm</td>\n",
       "      <td>...</td>\n",
       "      <td>No</td>\n",
       "      <td>Yes</td>\n",
       "      <td>No</td>\n",
       "      <td>No</td>\n",
       "      <td>No</td>\n",
       "      <td>Yes</td>\n",
       "      <td>0</td>\n",
       "      <td>0</td>\n",
       "      <td>60</td>\n",
       "      <td>3500</td>\n",
       "    </tr>\n",
       "    <tr>\n",
       "      <th>3</th>\n",
       "      <td>0.900277</td>\n",
       "      <td>0.11</td>\n",
       "      <td>0.432692</td>\n",
       "      <td>C4</td>\n",
       "      <td>21622</td>\n",
       "      <td>1</td>\n",
       "      <td>C1</td>\n",
       "      <td>M2</td>\n",
       "      <td>Petrol</td>\n",
       "      <td>113Nm@4400rpm</td>\n",
       "      <td>...</td>\n",
       "      <td>Yes</td>\n",
       "      <td>Yes</td>\n",
       "      <td>Yes</td>\n",
       "      <td>Yes</td>\n",
       "      <td>Yes</td>\n",
       "      <td>Yes</td>\n",
       "      <td>2</td>\n",
       "      <td>0</td>\n",
       "      <td>113</td>\n",
       "      <td>4400</td>\n",
       "    </tr>\n",
       "    <tr>\n",
       "      <th>4</th>\n",
       "      <td>0.596403</td>\n",
       "      <td>0.11</td>\n",
       "      <td>0.634615</td>\n",
       "      <td>C5</td>\n",
       "      <td>34738</td>\n",
       "      <td>2</td>\n",
       "      <td>A</td>\n",
       "      <td>M3</td>\n",
       "      <td>Petrol</td>\n",
       "      <td>91Nm@4250rpm</td>\n",
       "      <td>...</td>\n",
       "      <td>Yes</td>\n",
       "      <td>Yes</td>\n",
       "      <td>No</td>\n",
       "      <td>Yes</td>\n",
       "      <td>Yes</td>\n",
       "      <td>Yes</td>\n",
       "      <td>2</td>\n",
       "      <td>0</td>\n",
       "      <td>91</td>\n",
       "      <td>4250</td>\n",
       "    </tr>\n",
       "  </tbody>\n",
       "</table>\n",
       "<p>5 rows × 45 columns</p>\n",
       "</div>"
      ],
      "text/plain": [
       "   policy_tenure  age_of_car  age_of_policyholder area_cluster  \\\n",
       "0       0.515874        0.05             0.644231           C1   \n",
       "1       0.672619        0.02             0.375000           C2   \n",
       "2       0.841110        0.02             0.384615           C3   \n",
       "3       0.900277        0.11             0.432692           C4   \n",
       "4       0.596403        0.11             0.634615           C5   \n",
       "\n",
       "   population_density  make segment model fuel_type     max_torque  ...  \\\n",
       "0                4990     1       A    M1       CNG   60Nm@3500rpm  ...   \n",
       "1               27003     1       A    M1       CNG   60Nm@3500rpm  ...   \n",
       "2                4076     1       A    M1       CNG   60Nm@3500rpm  ...   \n",
       "3               21622     1      C1    M2    Petrol  113Nm@4400rpm  ...   \n",
       "4               34738     2       A    M3    Petrol   91Nm@4250rpm  ...   \n",
       "\n",
       "  is_central_locking is_power_steering  is_driver_seat_height_adjustable  \\\n",
       "0                 No               Yes                                No   \n",
       "1                 No               Yes                                No   \n",
       "2                 No               Yes                                No   \n",
       "3                Yes               Yes                               Yes   \n",
       "4                Yes               Yes                                No   \n",
       "\n",
       "  is_day_night_rear_view_mirror is_ecw is_speed_alert ncap_rating is_claim  \\\n",
       "0                            No     No            Yes           0        0   \n",
       "1                            No     No            Yes           0        0   \n",
       "2                            No     No            Yes           0        0   \n",
       "3                           Yes    Yes            Yes           2        0   \n",
       "4                           Yes    Yes            Yes           2        0   \n",
       "\n",
       "  torque   rpm  \n",
       "0     60  3500  \n",
       "1     60  3500  \n",
       "2     60  3500  \n",
       "3    113  4400  \n",
       "4     91  4250  \n",
       "\n",
       "[5 rows x 45 columns]"
      ]
     },
     "execution_count": 18,
     "metadata": {},
     "output_type": "execute_result"
    }
   ],
   "source": [
    "df.head()"
   ]
  },
  {
   "cell_type": "code",
   "execution_count": 19,
   "id": "6e8e2731",
   "metadata": {},
   "outputs": [
    {
     "data": {
      "text/plain": [
       "policy_tenure                       float64\n",
       "age_of_car                          float64\n",
       "age_of_policyholder                 float64\n",
       "area_cluster                         object\n",
       "population_density                    int64\n",
       "make                                  int64\n",
       "segment                              object\n",
       "model                                object\n",
       "fuel_type                            object\n",
       "max_torque                           object\n",
       "max_power                            object\n",
       "engine_type                          object\n",
       "airbags                               int64\n",
       "is_esc                               object\n",
       "is_adjustable_steering               object\n",
       "is_tpms                              object\n",
       "is_parking_sensors                   object\n",
       "is_parking_camera                    object\n",
       "rear_brakes_type                     object\n",
       "displacement                          int64\n",
       "cylinder                              int64\n",
       "transmission_type                    object\n",
       "gear_box                              int64\n",
       "steering_type                        object\n",
       "turning_radius                      float64\n",
       "length                                int64\n",
       "width                                 int64\n",
       "height                                int64\n",
       "gross_weight                          int64\n",
       "is_front_fog_lights                  object\n",
       "is_rear_window_wiper                 object\n",
       "is_rear_window_washer                object\n",
       "is_rear_window_defogger              object\n",
       "is_brake_assist                      object\n",
       "is_power_door_locks                  object\n",
       "is_central_locking                   object\n",
       "is_power_steering                    object\n",
       "is_driver_seat_height_adjustable     object\n",
       "is_day_night_rear_view_mirror        object\n",
       "is_ecw                               object\n",
       "is_speed_alert                       object\n",
       "ncap_rating                           int64\n",
       "is_claim                              int64\n",
       "torque                               object\n",
       "rpm                                  object\n",
       "dtype: object"
      ]
     },
     "execution_count": 19,
     "metadata": {},
     "output_type": "execute_result"
    }
   ],
   "source": [
    "df.dtypes"
   ]
  },
  {
   "cell_type": "code",
   "execution_count": 20,
   "id": "295d4b96",
   "metadata": {},
   "outputs": [],
   "source": [
    "# Convert the torque and rpm to Numeric data type\n",
    "df['torque'] = pd.to_numeric(df['torque'])\n",
    "df['rpm'] = pd.to_numeric(df['rpm'])"
   ]
  },
  {
   "cell_type": "code",
   "execution_count": 21,
   "id": "31d78740",
   "metadata": {},
   "outputs": [
    {
     "data": {
      "text/plain": [
       "policy_tenure                       float64\n",
       "age_of_car                          float64\n",
       "age_of_policyholder                 float64\n",
       "area_cluster                         object\n",
       "population_density                    int64\n",
       "make                                  int64\n",
       "segment                              object\n",
       "model                                object\n",
       "fuel_type                            object\n",
       "max_torque                           object\n",
       "max_power                            object\n",
       "engine_type                          object\n",
       "airbags                               int64\n",
       "is_esc                               object\n",
       "is_adjustable_steering               object\n",
       "is_tpms                              object\n",
       "is_parking_sensors                   object\n",
       "is_parking_camera                    object\n",
       "rear_brakes_type                     object\n",
       "displacement                          int64\n",
       "cylinder                              int64\n",
       "transmission_type                    object\n",
       "gear_box                              int64\n",
       "steering_type                        object\n",
       "turning_radius                      float64\n",
       "length                                int64\n",
       "width                                 int64\n",
       "height                                int64\n",
       "gross_weight                          int64\n",
       "is_front_fog_lights                  object\n",
       "is_rear_window_wiper                 object\n",
       "is_rear_window_washer                object\n",
       "is_rear_window_defogger              object\n",
       "is_brake_assist                      object\n",
       "is_power_door_locks                  object\n",
       "is_central_locking                   object\n",
       "is_power_steering                    object\n",
       "is_driver_seat_height_adjustable     object\n",
       "is_day_night_rear_view_mirror        object\n",
       "is_ecw                               object\n",
       "is_speed_alert                       object\n",
       "ncap_rating                           int64\n",
       "is_claim                              int64\n",
       "torque                              float64\n",
       "rpm                                   int64\n",
       "dtype: object"
      ]
     },
     "execution_count": 21,
     "metadata": {},
     "output_type": "execute_result"
    }
   ],
   "source": [
    "df.dtypes"
   ]
  },
  {
   "cell_type": "code",
   "execution_count": 22,
   "id": "33c69e4f",
   "metadata": {},
   "outputs": [],
   "source": [
    "# Calculate torque to RPM ratio \n",
    "df['torque to rpm ratio'] = df['torque'] / df['rpm']"
   ]
  },
  {
   "cell_type": "code",
   "execution_count": 23,
   "id": "bf53f4bd",
   "metadata": {},
   "outputs": [
    {
     "data": {
      "text/html": [
       "<div>\n",
       "<style scoped>\n",
       "    .dataframe tbody tr th:only-of-type {\n",
       "        vertical-align: middle;\n",
       "    }\n",
       "\n",
       "    .dataframe tbody tr th {\n",
       "        vertical-align: top;\n",
       "    }\n",
       "\n",
       "    .dataframe thead th {\n",
       "        text-align: right;\n",
       "    }\n",
       "</style>\n",
       "<table border=\"1\" class=\"dataframe\">\n",
       "  <thead>\n",
       "    <tr style=\"text-align: right;\">\n",
       "      <th></th>\n",
       "      <th>policy_tenure</th>\n",
       "      <th>age_of_car</th>\n",
       "      <th>age_of_policyholder</th>\n",
       "      <th>area_cluster</th>\n",
       "      <th>population_density</th>\n",
       "      <th>make</th>\n",
       "      <th>segment</th>\n",
       "      <th>model</th>\n",
       "      <th>fuel_type</th>\n",
       "      <th>max_torque</th>\n",
       "      <th>...</th>\n",
       "      <th>is_power_steering</th>\n",
       "      <th>is_driver_seat_height_adjustable</th>\n",
       "      <th>is_day_night_rear_view_mirror</th>\n",
       "      <th>is_ecw</th>\n",
       "      <th>is_speed_alert</th>\n",
       "      <th>ncap_rating</th>\n",
       "      <th>is_claim</th>\n",
       "      <th>torque</th>\n",
       "      <th>rpm</th>\n",
       "      <th>torque to rpm ratio</th>\n",
       "    </tr>\n",
       "  </thead>\n",
       "  <tbody>\n",
       "    <tr>\n",
       "      <th>0</th>\n",
       "      <td>0.515874</td>\n",
       "      <td>0.05</td>\n",
       "      <td>0.644231</td>\n",
       "      <td>C1</td>\n",
       "      <td>4990</td>\n",
       "      <td>1</td>\n",
       "      <td>A</td>\n",
       "      <td>M1</td>\n",
       "      <td>CNG</td>\n",
       "      <td>60Nm@3500rpm</td>\n",
       "      <td>...</td>\n",
       "      <td>Yes</td>\n",
       "      <td>No</td>\n",
       "      <td>No</td>\n",
       "      <td>No</td>\n",
       "      <td>Yes</td>\n",
       "      <td>0</td>\n",
       "      <td>0</td>\n",
       "      <td>60.0</td>\n",
       "      <td>3500</td>\n",
       "      <td>0.017143</td>\n",
       "    </tr>\n",
       "    <tr>\n",
       "      <th>1</th>\n",
       "      <td>0.672619</td>\n",
       "      <td>0.02</td>\n",
       "      <td>0.375000</td>\n",
       "      <td>C2</td>\n",
       "      <td>27003</td>\n",
       "      <td>1</td>\n",
       "      <td>A</td>\n",
       "      <td>M1</td>\n",
       "      <td>CNG</td>\n",
       "      <td>60Nm@3500rpm</td>\n",
       "      <td>...</td>\n",
       "      <td>Yes</td>\n",
       "      <td>No</td>\n",
       "      <td>No</td>\n",
       "      <td>No</td>\n",
       "      <td>Yes</td>\n",
       "      <td>0</td>\n",
       "      <td>0</td>\n",
       "      <td>60.0</td>\n",
       "      <td>3500</td>\n",
       "      <td>0.017143</td>\n",
       "    </tr>\n",
       "    <tr>\n",
       "      <th>2</th>\n",
       "      <td>0.841110</td>\n",
       "      <td>0.02</td>\n",
       "      <td>0.384615</td>\n",
       "      <td>C3</td>\n",
       "      <td>4076</td>\n",
       "      <td>1</td>\n",
       "      <td>A</td>\n",
       "      <td>M1</td>\n",
       "      <td>CNG</td>\n",
       "      <td>60Nm@3500rpm</td>\n",
       "      <td>...</td>\n",
       "      <td>Yes</td>\n",
       "      <td>No</td>\n",
       "      <td>No</td>\n",
       "      <td>No</td>\n",
       "      <td>Yes</td>\n",
       "      <td>0</td>\n",
       "      <td>0</td>\n",
       "      <td>60.0</td>\n",
       "      <td>3500</td>\n",
       "      <td>0.017143</td>\n",
       "    </tr>\n",
       "    <tr>\n",
       "      <th>3</th>\n",
       "      <td>0.900277</td>\n",
       "      <td>0.11</td>\n",
       "      <td>0.432692</td>\n",
       "      <td>C4</td>\n",
       "      <td>21622</td>\n",
       "      <td>1</td>\n",
       "      <td>C1</td>\n",
       "      <td>M2</td>\n",
       "      <td>Petrol</td>\n",
       "      <td>113Nm@4400rpm</td>\n",
       "      <td>...</td>\n",
       "      <td>Yes</td>\n",
       "      <td>Yes</td>\n",
       "      <td>Yes</td>\n",
       "      <td>Yes</td>\n",
       "      <td>Yes</td>\n",
       "      <td>2</td>\n",
       "      <td>0</td>\n",
       "      <td>113.0</td>\n",
       "      <td>4400</td>\n",
       "      <td>0.025682</td>\n",
       "    </tr>\n",
       "    <tr>\n",
       "      <th>4</th>\n",
       "      <td>0.596403</td>\n",
       "      <td>0.11</td>\n",
       "      <td>0.634615</td>\n",
       "      <td>C5</td>\n",
       "      <td>34738</td>\n",
       "      <td>2</td>\n",
       "      <td>A</td>\n",
       "      <td>M3</td>\n",
       "      <td>Petrol</td>\n",
       "      <td>91Nm@4250rpm</td>\n",
       "      <td>...</td>\n",
       "      <td>Yes</td>\n",
       "      <td>No</td>\n",
       "      <td>Yes</td>\n",
       "      <td>Yes</td>\n",
       "      <td>Yes</td>\n",
       "      <td>2</td>\n",
       "      <td>0</td>\n",
       "      <td>91.0</td>\n",
       "      <td>4250</td>\n",
       "      <td>0.021412</td>\n",
       "    </tr>\n",
       "  </tbody>\n",
       "</table>\n",
       "<p>5 rows × 46 columns</p>\n",
       "</div>"
      ],
      "text/plain": [
       "   policy_tenure  age_of_car  age_of_policyholder area_cluster  \\\n",
       "0       0.515874        0.05             0.644231           C1   \n",
       "1       0.672619        0.02             0.375000           C2   \n",
       "2       0.841110        0.02             0.384615           C3   \n",
       "3       0.900277        0.11             0.432692           C4   \n",
       "4       0.596403        0.11             0.634615           C5   \n",
       "\n",
       "   population_density  make segment model fuel_type     max_torque  ...  \\\n",
       "0                4990     1       A    M1       CNG   60Nm@3500rpm  ...   \n",
       "1               27003     1       A    M1       CNG   60Nm@3500rpm  ...   \n",
       "2                4076     1       A    M1       CNG   60Nm@3500rpm  ...   \n",
       "3               21622     1      C1    M2    Petrol  113Nm@4400rpm  ...   \n",
       "4               34738     2       A    M3    Petrol   91Nm@4250rpm  ...   \n",
       "\n",
       "  is_power_steering is_driver_seat_height_adjustable  \\\n",
       "0               Yes                               No   \n",
       "1               Yes                               No   \n",
       "2               Yes                               No   \n",
       "3               Yes                              Yes   \n",
       "4               Yes                               No   \n",
       "\n",
       "   is_day_night_rear_view_mirror is_ecw is_speed_alert ncap_rating is_claim  \\\n",
       "0                             No     No            Yes           0        0   \n",
       "1                             No     No            Yes           0        0   \n",
       "2                             No     No            Yes           0        0   \n",
       "3                            Yes    Yes            Yes           2        0   \n",
       "4                            Yes    Yes            Yes           2        0   \n",
       "\n",
       "  torque   rpm  torque to rpm ratio  \n",
       "0   60.0  3500             0.017143  \n",
       "1   60.0  3500             0.017143  \n",
       "2   60.0  3500             0.017143  \n",
       "3  113.0  4400             0.025682  \n",
       "4   91.0  4250             0.021412  \n",
       "\n",
       "[5 rows x 46 columns]"
      ]
     },
     "execution_count": 23,
     "metadata": {},
     "output_type": "execute_result"
    }
   ],
   "source": [
    "df.head()"
   ]
  },
  {
   "cell_type": "code",
   "execution_count": 24,
   "id": "81afa824",
   "metadata": {},
   "outputs": [],
   "source": [
    "# Drop redundant columns such as \"max_torque\", \"torque\", \"rpm\"\n",
    "df.drop('max_torque', axis=1,inplace=True)\n",
    "df.drop('rpm',axis=1,inplace=True)\n",
    "df.drop('torque',axis=1,inplace=True)"
   ]
  },
  {
   "cell_type": "code",
   "execution_count": 25,
   "id": "a58b060d",
   "metadata": {},
   "outputs": [
    {
     "data": {
      "text/html": [
       "<div>\n",
       "<style scoped>\n",
       "    .dataframe tbody tr th:only-of-type {\n",
       "        vertical-align: middle;\n",
       "    }\n",
       "\n",
       "    .dataframe tbody tr th {\n",
       "        vertical-align: top;\n",
       "    }\n",
       "\n",
       "    .dataframe thead th {\n",
       "        text-align: right;\n",
       "    }\n",
       "</style>\n",
       "<table border=\"1\" class=\"dataframe\">\n",
       "  <thead>\n",
       "    <tr style=\"text-align: right;\">\n",
       "      <th></th>\n",
       "      <th>policy_tenure</th>\n",
       "      <th>age_of_car</th>\n",
       "      <th>age_of_policyholder</th>\n",
       "      <th>area_cluster</th>\n",
       "      <th>population_density</th>\n",
       "      <th>make</th>\n",
       "      <th>segment</th>\n",
       "      <th>model</th>\n",
       "      <th>fuel_type</th>\n",
       "      <th>max_power</th>\n",
       "      <th>...</th>\n",
       "      <th>is_power_door_locks</th>\n",
       "      <th>is_central_locking</th>\n",
       "      <th>is_power_steering</th>\n",
       "      <th>is_driver_seat_height_adjustable</th>\n",
       "      <th>is_day_night_rear_view_mirror</th>\n",
       "      <th>is_ecw</th>\n",
       "      <th>is_speed_alert</th>\n",
       "      <th>ncap_rating</th>\n",
       "      <th>is_claim</th>\n",
       "      <th>torque to rpm ratio</th>\n",
       "    </tr>\n",
       "  </thead>\n",
       "  <tbody>\n",
       "    <tr>\n",
       "      <th>0</th>\n",
       "      <td>0.515874</td>\n",
       "      <td>0.05</td>\n",
       "      <td>0.644231</td>\n",
       "      <td>C1</td>\n",
       "      <td>4990</td>\n",
       "      <td>1</td>\n",
       "      <td>A</td>\n",
       "      <td>M1</td>\n",
       "      <td>CNG</td>\n",
       "      <td>40.36bhp@6000rpm</td>\n",
       "      <td>...</td>\n",
       "      <td>No</td>\n",
       "      <td>No</td>\n",
       "      <td>Yes</td>\n",
       "      <td>No</td>\n",
       "      <td>No</td>\n",
       "      <td>No</td>\n",
       "      <td>Yes</td>\n",
       "      <td>0</td>\n",
       "      <td>0</td>\n",
       "      <td>0.017143</td>\n",
       "    </tr>\n",
       "    <tr>\n",
       "      <th>1</th>\n",
       "      <td>0.672619</td>\n",
       "      <td>0.02</td>\n",
       "      <td>0.375000</td>\n",
       "      <td>C2</td>\n",
       "      <td>27003</td>\n",
       "      <td>1</td>\n",
       "      <td>A</td>\n",
       "      <td>M1</td>\n",
       "      <td>CNG</td>\n",
       "      <td>40.36bhp@6000rpm</td>\n",
       "      <td>...</td>\n",
       "      <td>No</td>\n",
       "      <td>No</td>\n",
       "      <td>Yes</td>\n",
       "      <td>No</td>\n",
       "      <td>No</td>\n",
       "      <td>No</td>\n",
       "      <td>Yes</td>\n",
       "      <td>0</td>\n",
       "      <td>0</td>\n",
       "      <td>0.017143</td>\n",
       "    </tr>\n",
       "    <tr>\n",
       "      <th>2</th>\n",
       "      <td>0.841110</td>\n",
       "      <td>0.02</td>\n",
       "      <td>0.384615</td>\n",
       "      <td>C3</td>\n",
       "      <td>4076</td>\n",
       "      <td>1</td>\n",
       "      <td>A</td>\n",
       "      <td>M1</td>\n",
       "      <td>CNG</td>\n",
       "      <td>40.36bhp@6000rpm</td>\n",
       "      <td>...</td>\n",
       "      <td>No</td>\n",
       "      <td>No</td>\n",
       "      <td>Yes</td>\n",
       "      <td>No</td>\n",
       "      <td>No</td>\n",
       "      <td>No</td>\n",
       "      <td>Yes</td>\n",
       "      <td>0</td>\n",
       "      <td>0</td>\n",
       "      <td>0.017143</td>\n",
       "    </tr>\n",
       "    <tr>\n",
       "      <th>3</th>\n",
       "      <td>0.900277</td>\n",
       "      <td>0.11</td>\n",
       "      <td>0.432692</td>\n",
       "      <td>C4</td>\n",
       "      <td>21622</td>\n",
       "      <td>1</td>\n",
       "      <td>C1</td>\n",
       "      <td>M2</td>\n",
       "      <td>Petrol</td>\n",
       "      <td>88.50bhp@6000rpm</td>\n",
       "      <td>...</td>\n",
       "      <td>Yes</td>\n",
       "      <td>Yes</td>\n",
       "      <td>Yes</td>\n",
       "      <td>Yes</td>\n",
       "      <td>Yes</td>\n",
       "      <td>Yes</td>\n",
       "      <td>Yes</td>\n",
       "      <td>2</td>\n",
       "      <td>0</td>\n",
       "      <td>0.025682</td>\n",
       "    </tr>\n",
       "    <tr>\n",
       "      <th>4</th>\n",
       "      <td>0.596403</td>\n",
       "      <td>0.11</td>\n",
       "      <td>0.634615</td>\n",
       "      <td>C5</td>\n",
       "      <td>34738</td>\n",
       "      <td>2</td>\n",
       "      <td>A</td>\n",
       "      <td>M3</td>\n",
       "      <td>Petrol</td>\n",
       "      <td>67.06bhp@5500rpm</td>\n",
       "      <td>...</td>\n",
       "      <td>Yes</td>\n",
       "      <td>Yes</td>\n",
       "      <td>Yes</td>\n",
       "      <td>No</td>\n",
       "      <td>Yes</td>\n",
       "      <td>Yes</td>\n",
       "      <td>Yes</td>\n",
       "      <td>2</td>\n",
       "      <td>0</td>\n",
       "      <td>0.021412</td>\n",
       "    </tr>\n",
       "  </tbody>\n",
       "</table>\n",
       "<p>5 rows × 43 columns</p>\n",
       "</div>"
      ],
      "text/plain": [
       "   policy_tenure  age_of_car  age_of_policyholder area_cluster  \\\n",
       "0       0.515874        0.05             0.644231           C1   \n",
       "1       0.672619        0.02             0.375000           C2   \n",
       "2       0.841110        0.02             0.384615           C3   \n",
       "3       0.900277        0.11             0.432692           C4   \n",
       "4       0.596403        0.11             0.634615           C5   \n",
       "\n",
       "   population_density  make segment model fuel_type         max_power  ...  \\\n",
       "0                4990     1       A    M1       CNG  40.36bhp@6000rpm  ...   \n",
       "1               27003     1       A    M1       CNG  40.36bhp@6000rpm  ...   \n",
       "2                4076     1       A    M1       CNG  40.36bhp@6000rpm  ...   \n",
       "3               21622     1      C1    M2    Petrol  88.50bhp@6000rpm  ...   \n",
       "4               34738     2       A    M3    Petrol  67.06bhp@5500rpm  ...   \n",
       "\n",
       "  is_power_door_locks  is_central_locking is_power_steering  \\\n",
       "0                  No                  No               Yes   \n",
       "1                  No                  No               Yes   \n",
       "2                  No                  No               Yes   \n",
       "3                 Yes                 Yes               Yes   \n",
       "4                 Yes                 Yes               Yes   \n",
       "\n",
       "  is_driver_seat_height_adjustable is_day_night_rear_view_mirror is_ecw  \\\n",
       "0                               No                            No     No   \n",
       "1                               No                            No     No   \n",
       "2                               No                            No     No   \n",
       "3                              Yes                           Yes    Yes   \n",
       "4                               No                           Yes    Yes   \n",
       "\n",
       "  is_speed_alert ncap_rating  is_claim  torque to rpm ratio  \n",
       "0            Yes           0         0             0.017143  \n",
       "1            Yes           0         0             0.017143  \n",
       "2            Yes           0         0             0.017143  \n",
       "3            Yes           2         0             0.025682  \n",
       "4            Yes           2         0             0.021412  \n",
       "\n",
       "[5 rows x 43 columns]"
      ]
     },
     "execution_count": 25,
     "metadata": {},
     "output_type": "execute_result"
    }
   ],
   "source": [
    "df.head()"
   ]
  },
  {
   "cell_type": "code",
   "execution_count": 26,
   "id": "b30ba4c5",
   "metadata": {},
   "outputs": [
    {
     "data": {
      "text/plain": [
       "88.50bhp@6000rpm     17796\n",
       "40.36bhp@6000rpm     14948\n",
       "113.45bhp@4000rpm    14018\n",
       "55.92bhp@5300rpm      4173\n",
       "67.06bhp@5500rpm      2373\n",
       "97.89bhp@3600rpm      2114\n",
       "88.77bhp@4000rpm      1598\n",
       "61.68bhp@6000rpm      1209\n",
       "118.36bhp@5500rpm      363\n",
       "Name: max_power, dtype: int64"
      ]
     },
     "execution_count": 26,
     "metadata": {},
     "output_type": "execute_result"
    }
   ],
   "source": [
    "df['max_power'].value_counts()"
   ]
  },
  {
   "cell_type": "markdown",
   "id": "95372ef0",
   "metadata": {},
   "source": [
    "- bhp: This represents brake horsepower, a unit of power used to measure the engine's total power output.\n",
    "- rpm: This denotes revolutions per minute, which measures how fast the engine's crankshaft is rotating."
   ]
  },
  {
   "cell_type": "code",
   "execution_count": 27,
   "id": "5dcb2b3f",
   "metadata": {},
   "outputs": [],
   "source": [
    "# Splitting the bhp and rpm\n",
    "df['power'] = df['max_power'].apply(lambda x: re.findall(r'\\d+\\.?\\d*(?=bhp)', x)[0])\n",
    "df['rpm'] = df['max_power'].apply(lambda x: re.findall(r'\\d+', x)[-1])"
   ]
  },
  {
   "cell_type": "code",
   "execution_count": 28,
   "id": "ec1376e5",
   "metadata": {},
   "outputs": [
    {
     "data": {
      "text/html": [
       "<div>\n",
       "<style scoped>\n",
       "    .dataframe tbody tr th:only-of-type {\n",
       "        vertical-align: middle;\n",
       "    }\n",
       "\n",
       "    .dataframe tbody tr th {\n",
       "        vertical-align: top;\n",
       "    }\n",
       "\n",
       "    .dataframe thead th {\n",
       "        text-align: right;\n",
       "    }\n",
       "</style>\n",
       "<table border=\"1\" class=\"dataframe\">\n",
       "  <thead>\n",
       "    <tr style=\"text-align: right;\">\n",
       "      <th></th>\n",
       "      <th>policy_tenure</th>\n",
       "      <th>age_of_car</th>\n",
       "      <th>age_of_policyholder</th>\n",
       "      <th>area_cluster</th>\n",
       "      <th>population_density</th>\n",
       "      <th>make</th>\n",
       "      <th>segment</th>\n",
       "      <th>model</th>\n",
       "      <th>fuel_type</th>\n",
       "      <th>max_power</th>\n",
       "      <th>...</th>\n",
       "      <th>is_power_steering</th>\n",
       "      <th>is_driver_seat_height_adjustable</th>\n",
       "      <th>is_day_night_rear_view_mirror</th>\n",
       "      <th>is_ecw</th>\n",
       "      <th>is_speed_alert</th>\n",
       "      <th>ncap_rating</th>\n",
       "      <th>is_claim</th>\n",
       "      <th>torque to rpm ratio</th>\n",
       "      <th>power</th>\n",
       "      <th>rpm</th>\n",
       "    </tr>\n",
       "  </thead>\n",
       "  <tbody>\n",
       "    <tr>\n",
       "      <th>0</th>\n",
       "      <td>0.515874</td>\n",
       "      <td>0.05</td>\n",
       "      <td>0.644231</td>\n",
       "      <td>C1</td>\n",
       "      <td>4990</td>\n",
       "      <td>1</td>\n",
       "      <td>A</td>\n",
       "      <td>M1</td>\n",
       "      <td>CNG</td>\n",
       "      <td>40.36bhp@6000rpm</td>\n",
       "      <td>...</td>\n",
       "      <td>Yes</td>\n",
       "      <td>No</td>\n",
       "      <td>No</td>\n",
       "      <td>No</td>\n",
       "      <td>Yes</td>\n",
       "      <td>0</td>\n",
       "      <td>0</td>\n",
       "      <td>0.017143</td>\n",
       "      <td>40.36</td>\n",
       "      <td>6000</td>\n",
       "    </tr>\n",
       "    <tr>\n",
       "      <th>1</th>\n",
       "      <td>0.672619</td>\n",
       "      <td>0.02</td>\n",
       "      <td>0.375000</td>\n",
       "      <td>C2</td>\n",
       "      <td>27003</td>\n",
       "      <td>1</td>\n",
       "      <td>A</td>\n",
       "      <td>M1</td>\n",
       "      <td>CNG</td>\n",
       "      <td>40.36bhp@6000rpm</td>\n",
       "      <td>...</td>\n",
       "      <td>Yes</td>\n",
       "      <td>No</td>\n",
       "      <td>No</td>\n",
       "      <td>No</td>\n",
       "      <td>Yes</td>\n",
       "      <td>0</td>\n",
       "      <td>0</td>\n",
       "      <td>0.017143</td>\n",
       "      <td>40.36</td>\n",
       "      <td>6000</td>\n",
       "    </tr>\n",
       "    <tr>\n",
       "      <th>2</th>\n",
       "      <td>0.841110</td>\n",
       "      <td>0.02</td>\n",
       "      <td>0.384615</td>\n",
       "      <td>C3</td>\n",
       "      <td>4076</td>\n",
       "      <td>1</td>\n",
       "      <td>A</td>\n",
       "      <td>M1</td>\n",
       "      <td>CNG</td>\n",
       "      <td>40.36bhp@6000rpm</td>\n",
       "      <td>...</td>\n",
       "      <td>Yes</td>\n",
       "      <td>No</td>\n",
       "      <td>No</td>\n",
       "      <td>No</td>\n",
       "      <td>Yes</td>\n",
       "      <td>0</td>\n",
       "      <td>0</td>\n",
       "      <td>0.017143</td>\n",
       "      <td>40.36</td>\n",
       "      <td>6000</td>\n",
       "    </tr>\n",
       "    <tr>\n",
       "      <th>3</th>\n",
       "      <td>0.900277</td>\n",
       "      <td>0.11</td>\n",
       "      <td>0.432692</td>\n",
       "      <td>C4</td>\n",
       "      <td>21622</td>\n",
       "      <td>1</td>\n",
       "      <td>C1</td>\n",
       "      <td>M2</td>\n",
       "      <td>Petrol</td>\n",
       "      <td>88.50bhp@6000rpm</td>\n",
       "      <td>...</td>\n",
       "      <td>Yes</td>\n",
       "      <td>Yes</td>\n",
       "      <td>Yes</td>\n",
       "      <td>Yes</td>\n",
       "      <td>Yes</td>\n",
       "      <td>2</td>\n",
       "      <td>0</td>\n",
       "      <td>0.025682</td>\n",
       "      <td>88.50</td>\n",
       "      <td>6000</td>\n",
       "    </tr>\n",
       "    <tr>\n",
       "      <th>4</th>\n",
       "      <td>0.596403</td>\n",
       "      <td>0.11</td>\n",
       "      <td>0.634615</td>\n",
       "      <td>C5</td>\n",
       "      <td>34738</td>\n",
       "      <td>2</td>\n",
       "      <td>A</td>\n",
       "      <td>M3</td>\n",
       "      <td>Petrol</td>\n",
       "      <td>67.06bhp@5500rpm</td>\n",
       "      <td>...</td>\n",
       "      <td>Yes</td>\n",
       "      <td>No</td>\n",
       "      <td>Yes</td>\n",
       "      <td>Yes</td>\n",
       "      <td>Yes</td>\n",
       "      <td>2</td>\n",
       "      <td>0</td>\n",
       "      <td>0.021412</td>\n",
       "      <td>67.06</td>\n",
       "      <td>5500</td>\n",
       "    </tr>\n",
       "  </tbody>\n",
       "</table>\n",
       "<p>5 rows × 45 columns</p>\n",
       "</div>"
      ],
      "text/plain": [
       "   policy_tenure  age_of_car  age_of_policyholder area_cluster  \\\n",
       "0       0.515874        0.05             0.644231           C1   \n",
       "1       0.672619        0.02             0.375000           C2   \n",
       "2       0.841110        0.02             0.384615           C3   \n",
       "3       0.900277        0.11             0.432692           C4   \n",
       "4       0.596403        0.11             0.634615           C5   \n",
       "\n",
       "   population_density  make segment model fuel_type         max_power  ...  \\\n",
       "0                4990     1       A    M1       CNG  40.36bhp@6000rpm  ...   \n",
       "1               27003     1       A    M1       CNG  40.36bhp@6000rpm  ...   \n",
       "2                4076     1       A    M1       CNG  40.36bhp@6000rpm  ...   \n",
       "3               21622     1      C1    M2    Petrol  88.50bhp@6000rpm  ...   \n",
       "4               34738     2       A    M3    Petrol  67.06bhp@5500rpm  ...   \n",
       "\n",
       "  is_power_steering  is_driver_seat_height_adjustable  \\\n",
       "0               Yes                                No   \n",
       "1               Yes                                No   \n",
       "2               Yes                                No   \n",
       "3               Yes                               Yes   \n",
       "4               Yes                                No   \n",
       "\n",
       "  is_day_night_rear_view_mirror is_ecw is_speed_alert ncap_rating is_claim  \\\n",
       "0                            No     No            Yes           0        0   \n",
       "1                            No     No            Yes           0        0   \n",
       "2                            No     No            Yes           0        0   \n",
       "3                           Yes    Yes            Yes           2        0   \n",
       "4                           Yes    Yes            Yes           2        0   \n",
       "\n",
       "  torque to rpm ratio  power   rpm  \n",
       "0            0.017143  40.36  6000  \n",
       "1            0.017143  40.36  6000  \n",
       "2            0.017143  40.36  6000  \n",
       "3            0.025682  88.50  6000  \n",
       "4            0.021412  67.06  5500  \n",
       "\n",
       "[5 rows x 45 columns]"
      ]
     },
     "execution_count": 28,
     "metadata": {},
     "output_type": "execute_result"
    }
   ],
   "source": [
    "df.head()"
   ]
  },
  {
   "cell_type": "code",
   "execution_count": 29,
   "id": "61b44472",
   "metadata": {},
   "outputs": [],
   "source": [
    "# Convert the power and rpm columns to numeric data type\n",
    "df['power'] = pd.to_numeric(df['power'])\n",
    "df['rpm'] = pd.to_numeric(df['rpm'])"
   ]
  },
  {
   "cell_type": "code",
   "execution_count": 30,
   "id": "9db976ce",
   "metadata": {},
   "outputs": [
    {
     "data": {
      "text/plain": [
       "policy_tenure                       float64\n",
       "age_of_car                          float64\n",
       "age_of_policyholder                 float64\n",
       "area_cluster                         object\n",
       "population_density                    int64\n",
       "make                                  int64\n",
       "segment                              object\n",
       "model                                object\n",
       "fuel_type                            object\n",
       "max_power                            object\n",
       "engine_type                          object\n",
       "airbags                               int64\n",
       "is_esc                               object\n",
       "is_adjustable_steering               object\n",
       "is_tpms                              object\n",
       "is_parking_sensors                   object\n",
       "is_parking_camera                    object\n",
       "rear_brakes_type                     object\n",
       "displacement                          int64\n",
       "cylinder                              int64\n",
       "transmission_type                    object\n",
       "gear_box                              int64\n",
       "steering_type                        object\n",
       "turning_radius                      float64\n",
       "length                                int64\n",
       "width                                 int64\n",
       "height                                int64\n",
       "gross_weight                          int64\n",
       "is_front_fog_lights                  object\n",
       "is_rear_window_wiper                 object\n",
       "is_rear_window_washer                object\n",
       "is_rear_window_defogger              object\n",
       "is_brake_assist                      object\n",
       "is_power_door_locks                  object\n",
       "is_central_locking                   object\n",
       "is_power_steering                    object\n",
       "is_driver_seat_height_adjustable     object\n",
       "is_day_night_rear_view_mirror        object\n",
       "is_ecw                               object\n",
       "is_speed_alert                       object\n",
       "ncap_rating                           int64\n",
       "is_claim                              int64\n",
       "torque to rpm ratio                 float64\n",
       "power                               float64\n",
       "rpm                                   int64\n",
       "dtype: object"
      ]
     },
     "execution_count": 30,
     "metadata": {},
     "output_type": "execute_result"
    }
   ],
   "source": [
    "df.dtypes"
   ]
  },
  {
   "cell_type": "code",
   "execution_count": 31,
   "id": "28082a0a",
   "metadata": {},
   "outputs": [],
   "source": [
    "# Calculate power to RPM ratio\n",
    "df['power to rpm ratio'] = df['power'] / df['rpm']"
   ]
  },
  {
   "cell_type": "code",
   "execution_count": 32,
   "id": "922dbeb8",
   "metadata": {},
   "outputs": [
    {
     "data": {
      "text/html": [
       "<div>\n",
       "<style scoped>\n",
       "    .dataframe tbody tr th:only-of-type {\n",
       "        vertical-align: middle;\n",
       "    }\n",
       "\n",
       "    .dataframe tbody tr th {\n",
       "        vertical-align: top;\n",
       "    }\n",
       "\n",
       "    .dataframe thead th {\n",
       "        text-align: right;\n",
       "    }\n",
       "</style>\n",
       "<table border=\"1\" class=\"dataframe\">\n",
       "  <thead>\n",
       "    <tr style=\"text-align: right;\">\n",
       "      <th></th>\n",
       "      <th>policy_tenure</th>\n",
       "      <th>age_of_car</th>\n",
       "      <th>age_of_policyholder</th>\n",
       "      <th>area_cluster</th>\n",
       "      <th>population_density</th>\n",
       "      <th>make</th>\n",
       "      <th>segment</th>\n",
       "      <th>model</th>\n",
       "      <th>fuel_type</th>\n",
       "      <th>max_power</th>\n",
       "      <th>...</th>\n",
       "      <th>is_driver_seat_height_adjustable</th>\n",
       "      <th>is_day_night_rear_view_mirror</th>\n",
       "      <th>is_ecw</th>\n",
       "      <th>is_speed_alert</th>\n",
       "      <th>ncap_rating</th>\n",
       "      <th>is_claim</th>\n",
       "      <th>torque to rpm ratio</th>\n",
       "      <th>power</th>\n",
       "      <th>rpm</th>\n",
       "      <th>power to rpm ratio</th>\n",
       "    </tr>\n",
       "  </thead>\n",
       "  <tbody>\n",
       "    <tr>\n",
       "      <th>0</th>\n",
       "      <td>0.515874</td>\n",
       "      <td>0.05</td>\n",
       "      <td>0.644231</td>\n",
       "      <td>C1</td>\n",
       "      <td>4990</td>\n",
       "      <td>1</td>\n",
       "      <td>A</td>\n",
       "      <td>M1</td>\n",
       "      <td>CNG</td>\n",
       "      <td>40.36bhp@6000rpm</td>\n",
       "      <td>...</td>\n",
       "      <td>No</td>\n",
       "      <td>No</td>\n",
       "      <td>No</td>\n",
       "      <td>Yes</td>\n",
       "      <td>0</td>\n",
       "      <td>0</td>\n",
       "      <td>0.017143</td>\n",
       "      <td>40.36</td>\n",
       "      <td>6000</td>\n",
       "      <td>0.006727</td>\n",
       "    </tr>\n",
       "    <tr>\n",
       "      <th>1</th>\n",
       "      <td>0.672619</td>\n",
       "      <td>0.02</td>\n",
       "      <td>0.375000</td>\n",
       "      <td>C2</td>\n",
       "      <td>27003</td>\n",
       "      <td>1</td>\n",
       "      <td>A</td>\n",
       "      <td>M1</td>\n",
       "      <td>CNG</td>\n",
       "      <td>40.36bhp@6000rpm</td>\n",
       "      <td>...</td>\n",
       "      <td>No</td>\n",
       "      <td>No</td>\n",
       "      <td>No</td>\n",
       "      <td>Yes</td>\n",
       "      <td>0</td>\n",
       "      <td>0</td>\n",
       "      <td>0.017143</td>\n",
       "      <td>40.36</td>\n",
       "      <td>6000</td>\n",
       "      <td>0.006727</td>\n",
       "    </tr>\n",
       "    <tr>\n",
       "      <th>2</th>\n",
       "      <td>0.841110</td>\n",
       "      <td>0.02</td>\n",
       "      <td>0.384615</td>\n",
       "      <td>C3</td>\n",
       "      <td>4076</td>\n",
       "      <td>1</td>\n",
       "      <td>A</td>\n",
       "      <td>M1</td>\n",
       "      <td>CNG</td>\n",
       "      <td>40.36bhp@6000rpm</td>\n",
       "      <td>...</td>\n",
       "      <td>No</td>\n",
       "      <td>No</td>\n",
       "      <td>No</td>\n",
       "      <td>Yes</td>\n",
       "      <td>0</td>\n",
       "      <td>0</td>\n",
       "      <td>0.017143</td>\n",
       "      <td>40.36</td>\n",
       "      <td>6000</td>\n",
       "      <td>0.006727</td>\n",
       "    </tr>\n",
       "    <tr>\n",
       "      <th>3</th>\n",
       "      <td>0.900277</td>\n",
       "      <td>0.11</td>\n",
       "      <td>0.432692</td>\n",
       "      <td>C4</td>\n",
       "      <td>21622</td>\n",
       "      <td>1</td>\n",
       "      <td>C1</td>\n",
       "      <td>M2</td>\n",
       "      <td>Petrol</td>\n",
       "      <td>88.50bhp@6000rpm</td>\n",
       "      <td>...</td>\n",
       "      <td>Yes</td>\n",
       "      <td>Yes</td>\n",
       "      <td>Yes</td>\n",
       "      <td>Yes</td>\n",
       "      <td>2</td>\n",
       "      <td>0</td>\n",
       "      <td>0.025682</td>\n",
       "      <td>88.50</td>\n",
       "      <td>6000</td>\n",
       "      <td>0.014750</td>\n",
       "    </tr>\n",
       "    <tr>\n",
       "      <th>4</th>\n",
       "      <td>0.596403</td>\n",
       "      <td>0.11</td>\n",
       "      <td>0.634615</td>\n",
       "      <td>C5</td>\n",
       "      <td>34738</td>\n",
       "      <td>2</td>\n",
       "      <td>A</td>\n",
       "      <td>M3</td>\n",
       "      <td>Petrol</td>\n",
       "      <td>67.06bhp@5500rpm</td>\n",
       "      <td>...</td>\n",
       "      <td>No</td>\n",
       "      <td>Yes</td>\n",
       "      <td>Yes</td>\n",
       "      <td>Yes</td>\n",
       "      <td>2</td>\n",
       "      <td>0</td>\n",
       "      <td>0.021412</td>\n",
       "      <td>67.06</td>\n",
       "      <td>5500</td>\n",
       "      <td>0.012193</td>\n",
       "    </tr>\n",
       "  </tbody>\n",
       "</table>\n",
       "<p>5 rows × 46 columns</p>\n",
       "</div>"
      ],
      "text/plain": [
       "   policy_tenure  age_of_car  age_of_policyholder area_cluster  \\\n",
       "0       0.515874        0.05             0.644231           C1   \n",
       "1       0.672619        0.02             0.375000           C2   \n",
       "2       0.841110        0.02             0.384615           C3   \n",
       "3       0.900277        0.11             0.432692           C4   \n",
       "4       0.596403        0.11             0.634615           C5   \n",
       "\n",
       "   population_density  make segment model fuel_type         max_power  ...  \\\n",
       "0                4990     1       A    M1       CNG  40.36bhp@6000rpm  ...   \n",
       "1               27003     1       A    M1       CNG  40.36bhp@6000rpm  ...   \n",
       "2                4076     1       A    M1       CNG  40.36bhp@6000rpm  ...   \n",
       "3               21622     1      C1    M2    Petrol  88.50bhp@6000rpm  ...   \n",
       "4               34738     2       A    M3    Petrol  67.06bhp@5500rpm  ...   \n",
       "\n",
       "  is_driver_seat_height_adjustable  is_day_night_rear_view_mirror is_ecw  \\\n",
       "0                               No                             No     No   \n",
       "1                               No                             No     No   \n",
       "2                               No                             No     No   \n",
       "3                              Yes                            Yes    Yes   \n",
       "4                               No                            Yes    Yes   \n",
       "\n",
       "  is_speed_alert ncap_rating is_claim torque to rpm ratio  power   rpm  \\\n",
       "0            Yes           0        0            0.017143  40.36  6000   \n",
       "1            Yes           0        0            0.017143  40.36  6000   \n",
       "2            Yes           0        0            0.017143  40.36  6000   \n",
       "3            Yes           2        0            0.025682  88.50  6000   \n",
       "4            Yes           2        0            0.021412  67.06  5500   \n",
       "\n",
       "   power to rpm ratio  \n",
       "0            0.006727  \n",
       "1            0.006727  \n",
       "2            0.006727  \n",
       "3            0.014750  \n",
       "4            0.012193  \n",
       "\n",
       "[5 rows x 46 columns]"
      ]
     },
     "execution_count": 32,
     "metadata": {},
     "output_type": "execute_result"
    }
   ],
   "source": [
    "df.head()"
   ]
  },
  {
   "cell_type": "code",
   "execution_count": 33,
   "id": "2a5a5a99",
   "metadata": {},
   "outputs": [],
   "source": [
    "# Drop redundant columns such as \"max_power\", \"power\", \"rpm\"\n",
    "df.drop('power', axis=1,inplace=True)\n",
    "df.drop('rpm',axis=1,inplace=True)\n",
    "df.drop('max_power',axis=1,inplace=True)"
   ]
  },
  {
   "cell_type": "code",
   "execution_count": 34,
   "id": "588898a1",
   "metadata": {},
   "outputs": [
    {
     "data": {
      "text/html": [
       "<div>\n",
       "<style scoped>\n",
       "    .dataframe tbody tr th:only-of-type {\n",
       "        vertical-align: middle;\n",
       "    }\n",
       "\n",
       "    .dataframe tbody tr th {\n",
       "        vertical-align: top;\n",
       "    }\n",
       "\n",
       "    .dataframe thead th {\n",
       "        text-align: right;\n",
       "    }\n",
       "</style>\n",
       "<table border=\"1\" class=\"dataframe\">\n",
       "  <thead>\n",
       "    <tr style=\"text-align: right;\">\n",
       "      <th></th>\n",
       "      <th>policy_tenure</th>\n",
       "      <th>age_of_car</th>\n",
       "      <th>age_of_policyholder</th>\n",
       "      <th>area_cluster</th>\n",
       "      <th>population_density</th>\n",
       "      <th>make</th>\n",
       "      <th>segment</th>\n",
       "      <th>model</th>\n",
       "      <th>fuel_type</th>\n",
       "      <th>engine_type</th>\n",
       "      <th>...</th>\n",
       "      <th>is_central_locking</th>\n",
       "      <th>is_power_steering</th>\n",
       "      <th>is_driver_seat_height_adjustable</th>\n",
       "      <th>is_day_night_rear_view_mirror</th>\n",
       "      <th>is_ecw</th>\n",
       "      <th>is_speed_alert</th>\n",
       "      <th>ncap_rating</th>\n",
       "      <th>is_claim</th>\n",
       "      <th>torque to rpm ratio</th>\n",
       "      <th>power to rpm ratio</th>\n",
       "    </tr>\n",
       "  </thead>\n",
       "  <tbody>\n",
       "    <tr>\n",
       "      <th>0</th>\n",
       "      <td>0.515874</td>\n",
       "      <td>0.05</td>\n",
       "      <td>0.644231</td>\n",
       "      <td>C1</td>\n",
       "      <td>4990</td>\n",
       "      <td>1</td>\n",
       "      <td>A</td>\n",
       "      <td>M1</td>\n",
       "      <td>CNG</td>\n",
       "      <td>F8D Petrol Engine</td>\n",
       "      <td>...</td>\n",
       "      <td>No</td>\n",
       "      <td>Yes</td>\n",
       "      <td>No</td>\n",
       "      <td>No</td>\n",
       "      <td>No</td>\n",
       "      <td>Yes</td>\n",
       "      <td>0</td>\n",
       "      <td>0</td>\n",
       "      <td>0.017143</td>\n",
       "      <td>0.006727</td>\n",
       "    </tr>\n",
       "    <tr>\n",
       "      <th>1</th>\n",
       "      <td>0.672619</td>\n",
       "      <td>0.02</td>\n",
       "      <td>0.375000</td>\n",
       "      <td>C2</td>\n",
       "      <td>27003</td>\n",
       "      <td>1</td>\n",
       "      <td>A</td>\n",
       "      <td>M1</td>\n",
       "      <td>CNG</td>\n",
       "      <td>F8D Petrol Engine</td>\n",
       "      <td>...</td>\n",
       "      <td>No</td>\n",
       "      <td>Yes</td>\n",
       "      <td>No</td>\n",
       "      <td>No</td>\n",
       "      <td>No</td>\n",
       "      <td>Yes</td>\n",
       "      <td>0</td>\n",
       "      <td>0</td>\n",
       "      <td>0.017143</td>\n",
       "      <td>0.006727</td>\n",
       "    </tr>\n",
       "    <tr>\n",
       "      <th>2</th>\n",
       "      <td>0.841110</td>\n",
       "      <td>0.02</td>\n",
       "      <td>0.384615</td>\n",
       "      <td>C3</td>\n",
       "      <td>4076</td>\n",
       "      <td>1</td>\n",
       "      <td>A</td>\n",
       "      <td>M1</td>\n",
       "      <td>CNG</td>\n",
       "      <td>F8D Petrol Engine</td>\n",
       "      <td>...</td>\n",
       "      <td>No</td>\n",
       "      <td>Yes</td>\n",
       "      <td>No</td>\n",
       "      <td>No</td>\n",
       "      <td>No</td>\n",
       "      <td>Yes</td>\n",
       "      <td>0</td>\n",
       "      <td>0</td>\n",
       "      <td>0.017143</td>\n",
       "      <td>0.006727</td>\n",
       "    </tr>\n",
       "    <tr>\n",
       "      <th>3</th>\n",
       "      <td>0.900277</td>\n",
       "      <td>0.11</td>\n",
       "      <td>0.432692</td>\n",
       "      <td>C4</td>\n",
       "      <td>21622</td>\n",
       "      <td>1</td>\n",
       "      <td>C1</td>\n",
       "      <td>M2</td>\n",
       "      <td>Petrol</td>\n",
       "      <td>1.2 L K12N Dualjet</td>\n",
       "      <td>...</td>\n",
       "      <td>Yes</td>\n",
       "      <td>Yes</td>\n",
       "      <td>Yes</td>\n",
       "      <td>Yes</td>\n",
       "      <td>Yes</td>\n",
       "      <td>Yes</td>\n",
       "      <td>2</td>\n",
       "      <td>0</td>\n",
       "      <td>0.025682</td>\n",
       "      <td>0.014750</td>\n",
       "    </tr>\n",
       "    <tr>\n",
       "      <th>4</th>\n",
       "      <td>0.596403</td>\n",
       "      <td>0.11</td>\n",
       "      <td>0.634615</td>\n",
       "      <td>C5</td>\n",
       "      <td>34738</td>\n",
       "      <td>2</td>\n",
       "      <td>A</td>\n",
       "      <td>M3</td>\n",
       "      <td>Petrol</td>\n",
       "      <td>1.0 SCe</td>\n",
       "      <td>...</td>\n",
       "      <td>Yes</td>\n",
       "      <td>Yes</td>\n",
       "      <td>No</td>\n",
       "      <td>Yes</td>\n",
       "      <td>Yes</td>\n",
       "      <td>Yes</td>\n",
       "      <td>2</td>\n",
       "      <td>0</td>\n",
       "      <td>0.021412</td>\n",
       "      <td>0.012193</td>\n",
       "    </tr>\n",
       "  </tbody>\n",
       "</table>\n",
       "<p>5 rows × 43 columns</p>\n",
       "</div>"
      ],
      "text/plain": [
       "   policy_tenure  age_of_car  age_of_policyholder area_cluster  \\\n",
       "0       0.515874        0.05             0.644231           C1   \n",
       "1       0.672619        0.02             0.375000           C2   \n",
       "2       0.841110        0.02             0.384615           C3   \n",
       "3       0.900277        0.11             0.432692           C4   \n",
       "4       0.596403        0.11             0.634615           C5   \n",
       "\n",
       "   population_density  make segment model fuel_type         engine_type  ...  \\\n",
       "0                4990     1       A    M1       CNG   F8D Petrol Engine  ...   \n",
       "1               27003     1       A    M1       CNG   F8D Petrol Engine  ...   \n",
       "2                4076     1       A    M1       CNG   F8D Petrol Engine  ...   \n",
       "3               21622     1      C1    M2    Petrol  1.2 L K12N Dualjet  ...   \n",
       "4               34738     2       A    M3    Petrol             1.0 SCe  ...   \n",
       "\n",
       "   is_central_locking is_power_steering is_driver_seat_height_adjustable  \\\n",
       "0                  No               Yes                               No   \n",
       "1                  No               Yes                               No   \n",
       "2                  No               Yes                               No   \n",
       "3                 Yes               Yes                              Yes   \n",
       "4                 Yes               Yes                               No   \n",
       "\n",
       "  is_day_night_rear_view_mirror is_ecw is_speed_alert ncap_rating  is_claim  \\\n",
       "0                            No     No            Yes           0         0   \n",
       "1                            No     No            Yes           0         0   \n",
       "2                            No     No            Yes           0         0   \n",
       "3                           Yes    Yes            Yes           2         0   \n",
       "4                           Yes    Yes            Yes           2         0   \n",
       "\n",
       "   torque to rpm ratio power to rpm ratio  \n",
       "0             0.017143           0.006727  \n",
       "1             0.017143           0.006727  \n",
       "2             0.017143           0.006727  \n",
       "3             0.025682           0.014750  \n",
       "4             0.021412           0.012193  \n",
       "\n",
       "[5 rows x 43 columns]"
      ]
     },
     "execution_count": 34,
     "metadata": {},
     "output_type": "execute_result"
    }
   ],
   "source": [
    "df.head()"
   ]
  },
  {
   "cell_type": "code",
   "execution_count": 35,
   "id": "40e8e3f4",
   "metadata": {},
   "outputs": [
    {
     "name": "stdout",
     "output_type": "stream",
     "text": [
      "['is_esc', 'is_adjustable_steering', 'is_tpms', 'is_parking_sensors', 'is_parking_camera', 'is_front_fog_lights', 'is_rear_window_wiper', 'is_rear_window_washer', 'is_rear_window_defogger', 'is_brake_assist', 'is_power_door_locks', 'is_central_locking', 'is_power_steering', 'is_driver_seat_height_adjustable', 'is_day_night_rear_view_mirror', 'is_ecw', 'is_speed_alert']\n"
     ]
    }
   ],
   "source": [
    "# Encoding all the boolean data into numerical values to fit machine learning models\n",
    "is_cols=[col for col in df.columns if col.startswith(\"is\") and col!=\"is_claim\"]\n",
    "print(is_cols)"
   ]
  },
  {
   "cell_type": "code",
   "execution_count": 36,
   "id": "b9b8a7da",
   "metadata": {},
   "outputs": [],
   "source": [
    "df = df.replace({ \"No\" : 0 , \"Yes\" : 1 })"
   ]
  },
  {
   "cell_type": "code",
   "execution_count": 37,
   "id": "103e789b",
   "metadata": {},
   "outputs": [
    {
     "name": "stdout",
     "output_type": "stream",
     "text": [
      " Data Set Numerical columns:\n",
      "35\n",
      "Index(['policy_tenure', 'age_of_car', 'age_of_policyholder',\n",
      "       'population_density', 'make', 'airbags', 'is_esc',\n",
      "       'is_adjustable_steering', 'is_tpms', 'is_parking_sensors',\n",
      "       'is_parking_camera', 'displacement', 'cylinder', 'gear_box',\n",
      "       'turning_radius', 'length', 'width', 'height', 'gross_weight',\n",
      "       'is_front_fog_lights', 'is_rear_window_wiper', 'is_rear_window_washer',\n",
      "       'is_rear_window_defogger', 'is_brake_assist', 'is_power_door_locks',\n",
      "       'is_central_locking', 'is_power_steering',\n",
      "       'is_driver_seat_height_adjustable', 'is_day_night_rear_view_mirror',\n",
      "       'is_ecw', 'is_speed_alert', 'ncap_rating', 'is_claim',\n",
      "       'torque to rpm ratio', 'power to rpm ratio'],\n",
      "      dtype='object')\n"
     ]
    }
   ],
   "source": [
    "dataset_num_col = df.select_dtypes(include=['int', 'float']).columns\n",
    "print(\" Data Set Numerical columns:\")\n",
    "print(dataset_num_col.nunique())\n",
    "print(dataset_num_col)"
   ]
  },
  {
   "cell_type": "code",
   "execution_count": 38,
   "id": "412fd166",
   "metadata": {},
   "outputs": [
    {
     "name": "stdout",
     "output_type": "stream",
     "text": [
      "Data Set categorical columns:\n",
      "8\n",
      "Index(['area_cluster', 'segment', 'model', 'fuel_type', 'engine_type',\n",
      "       'rear_brakes_type', 'transmission_type', 'steering_type'],\n",
      "      dtype='object')\n"
     ]
    }
   ],
   "source": [
    "dataset_cat_cols = df.select_dtypes(include=['object']).columns\n",
    "print(\"Data Set categorical columns:\")\n",
    "print(dataset_cat_cols.nunique())\n",
    "print(dataset_cat_cols)"
   ]
  },
  {
   "cell_type": "markdown",
   "id": "130fbedf",
   "metadata": {},
   "source": [
    "### Feature Engineering\n",
    "- Convert categorical variables like 'area_cluster', 'segment', 'model', 'fuel_type', 'engine_type', 'rear_brakes_type', 'transmission_type', 'steering_type' into numerical representations using techniques like one-hot encoding or label encoding."
   ]
  },
  {
   "cell_type": "code",
   "execution_count": 39,
   "id": "3456cd86",
   "metadata": {},
   "outputs": [],
   "source": [
    "# pd.get_dummies(): This is a Pandas function that performs one-hot encoding on categorical variables. \n",
    "# It converts categorical variables into a binary (0 or 1) format, making them suitable for machine learning \n",
    "# models.\n",
    "\n",
    "# drop_first=True: When set to True, this option drops the first category in each categorical variable \n",
    "# to avoid multicollinearity, as the information from the dropped category can be inferred from the other \n",
    "# categories.\n",
    "\n",
    "df= pd.get_dummies(df, columns=dataset_cat_cols,drop_first=True)"
   ]
  },
  {
   "cell_type": "markdown",
   "id": "22021979",
   "metadata": {},
   "source": [
    "### Undersampling\n",
    "- To address the significant class imbalance in the dataset, we've undertaken a strategic adjustment to ensure the production of meaningful and valid results. Our approach involves implementing undersampling, specifically reducing the ratio of accepted claims to rejected claims to a balanced 2:1 ratio."
   ]
  },
  {
   "cell_type": "code",
   "execution_count": 40,
   "id": "2ed743e5",
   "metadata": {},
   "outputs": [],
   "source": [
    "# Separate the majority and minority classes\n",
    "majority_class = df[df['is_claim'] == 0]\n",
    "minority_class = df[df['is_claim'] == 1]\n",
    "\n",
    "# Undersample the majority class\n",
    "undersampled_majority = resample(\n",
    "    majority_class,\n",
    "    replace=False,  # Set to False for undersampling\n",
    "    n_samples=len(minority_class) * 2,  # Desired number of records in the majority class\n",
    "    random_state=42  # Set a random seed for reproducibility\n",
    ")\n",
    "\n",
    "# Combine the undersampled majority class with the minority class\n",
    "df_final = pd.concat([undersampled_majority, minority_class])"
   ]
  },
  {
   "cell_type": "markdown",
   "id": "bfea85a6",
   "metadata": {},
   "source": [
    "- The majority and minority classes are separated based on the 'is_claim' column in the DataFrame 'df.' \n",
    "- The majority class contains rows where 'is_claim' is equal to 0, and the minority class contains rows \n",
    "where 'is_claim' is equal to 1.\n",
    "- The 'resample' function is used to undersample the majority class. \n",
    "\n",
    "#### The key parameters are as follows:\n",
    "- majority_class: This is the majority class data that is to undersample.\n",
    "- replace=False: Setting this to False ensures that sampling is done without replacement, meaning that each \n",
    "selected sample from the majority class is unique.\n",
    "- n_samples=len(minority_class) * 2: This determines the desired number of records in the majority class \n",
    "after undersampling. In this case, it's set to twice the number of samples in the minority class to balance the \n",
    "classes.\n",
    "- random_state=42: This sets a random seed for reproducibility. \n",
    "It ensures that the same undersampling process can be replicated in the future.\n",
    "After undersampling, now we have a new DataFrame called 'undersampled_majority,' which contains a reduced number \n",
    "of samples from the majority class.\n",
    "This 'df_final' DataFrame has a balanced class distribution, making it suitable for training a \n",
    "machine learning model without the bias that can result from class imbalance."
   ]
  },
  {
   "cell_type": "markdown",
   "id": "4e07bd87",
   "metadata": {},
   "source": [
    "### Correlation Heatmap\n",
    "- Now to check which input features are the least strongly correlated to the target variable 'is_claim', we will plot the correlation heat matrix of the Top 10 least correlated variables available to us."
   ]
  },
  {
   "cell_type": "code",
   "execution_count": 41,
   "id": "23652300",
   "metadata": {},
   "outputs": [
    {
     "data": {
      "image/png": "[encoded data removed]",
      "text/plain": [
       "<Figure size 720x576 with 2 Axes>"
      ]
     },
     "metadata": {
      "needs_background": "light"
     },
     "output_type": "display_data"
    }
   ],
   "source": [
    "num_bottom_features = 10\n",
    "\n",
    "correlation_values = df_final.corr()['is_claim'].abs().sort_values(ascending=True)[:num_bottom_features]\n",
    "bottom_features = correlation_values.index\n",
    "\n",
    "subset_df = df_final[bottom_features]\n",
    "correlation_matrix = subset_df.corr()\n",
    "\n",
    "plt.figure(figsize=(10, 8))\n",
    "sns.heatmap(correlation_matrix, annot=True, cmap=\"coolwarm\")\n",
    "plt.title(f'Bottom {num_bottom_features} Correlation Heatmap')\n",
    "plt.show()"
   ]
  },
  {
   "cell_type": "markdown",
   "id": "6733354a",
   "metadata": {},
   "source": [
    "### Observations\n",
    "- 3 variables correlated to or affecting the 'is_claim' variable are:\n",
    "\n",
    "1. gear_box\n",
    "2. is_parking_camera\n",
    "3. area_cluster_C16"
   ]
  },
  {
   "cell_type": "markdown",
   "id": "af6aa8a7",
   "metadata": {},
   "source": [
    "### Splitting the dataset"
   ]
  },
  {
   "cell_type": "code",
   "execution_count": 42,
   "id": "c8467944",
   "metadata": {},
   "outputs": [],
   "source": [
    "X = df_final.drop(['gear_box', 'is_parking_camera', 'area_cluster_C16'], axis=1)  # Features\n",
    "y = df_final['is_claim']  # Target variable"
   ]
  },
  {
   "cell_type": "code",
   "execution_count": 43,
   "id": "feeb7692",
   "metadata": {},
   "outputs": [],
   "source": [
    "# Dataset is split in the ration 80:20\n",
    "X_train, X_test, y_train, y_test = train_test_split(X, y, test_size=0.2, random_state=42)"
   ]
  },
  {
   "cell_type": "code",
   "execution_count": 44,
   "id": "a2a27e98",
   "metadata": {},
   "outputs": [
    {
     "data": {
      "text/plain": [
       "0    5987\n",
       "1    3008\n",
       "Name: is_claim, dtype: int64"
      ]
     },
     "execution_count": 44,
     "metadata": {},
     "output_type": "execute_result"
    }
   ],
   "source": [
    "y_train.value_counts()"
   ]
  },
  {
   "cell_type": "code",
   "execution_count": 45,
   "id": "4b747907",
   "metadata": {},
   "outputs": [],
   "source": [
    "# Training Dataset\n",
    "# Not Claimed: 5987\n",
    "# Claimed: 3008"
   ]
  },
  {
   "cell_type": "code",
   "execution_count": 46,
   "id": "824bbb9c",
   "metadata": {},
   "outputs": [
    {
     "data": {
      "text/plain": [
       "0    1509\n",
       "1     740\n",
       "Name: is_claim, dtype: int64"
      ]
     },
     "execution_count": 46,
     "metadata": {},
     "output_type": "execute_result"
    }
   ],
   "source": [
    "y_test.value_counts()"
   ]
  },
  {
   "cell_type": "code",
   "execution_count": 47,
   "id": "4d00b18c",
   "metadata": {},
   "outputs": [],
   "source": [
    "# Test Dataset\n",
    "# Not Claimed: 1509\n",
    "# Claimed: 740"
   ]
  },
  {
   "cell_type": "code",
   "execution_count": 48,
   "id": "ccc63443",
   "metadata": {},
   "outputs": [
    {
     "data": {
      "image/png": "[encoded data removed]",
      "text/plain": [
       "<Figure size 432x288 with 1 Axes>"
      ]
     },
     "metadata": {},
     "output_type": "display_data"
    }
   ],
   "source": [
    "plt.pie(y.value_counts(),labels=['No Claim','Claim'],radius=1.5,colors = ['#FFFACD','#ADD8E6'],\n",
    "        autopct='%1.1f%%',labeldistance=1.15,startangle =0)\n",
    "\n",
    "plt.show()"
   ]
  },
  {
   "cell_type": "markdown",
   "id": "fdc22465",
   "metadata": {},
   "source": [
    "- The target class is now balanced with the desired number of claims and no claims."
   ]
  },
  {
   "cell_type": "markdown",
   "id": "18e3de07",
   "metadata": {},
   "source": [
    "### Classification model selection and training\n",
    "- The dataset we are using in this project is high-dimensional in nature, containing various complex relationships, so we will be using multiple classification techniques to find our best fit."
   ]
  },
  {
   "cell_type": "markdown",
   "id": "d29d0aa1",
   "metadata": {},
   "source": [
    "### Logistic Regression"
   ]
  },
  {
   "cell_type": "code",
   "execution_count": 49,
   "id": "b289286a",
   "metadata": {},
   "outputs": [
    {
     "name": "stdout",
     "output_type": "stream",
     "text": [
      "Accuracy: 0.6634059582036461\n",
      "Classification Report:\n",
      "               precision    recall  f1-score   support\n",
      "\n",
      "           0       0.68      0.95      0.79      1509\n",
      "           1       0.44      0.08      0.14       740\n",
      "\n",
      "    accuracy                           0.66      2249\n",
      "   macro avg       0.56      0.52      0.46      2249\n",
      "weighted avg       0.60      0.66      0.58      2249\n",
      "\n"
     ]
    }
   ],
   "source": [
    "# Create an instance of Logistic Regression\n",
    "logreg = LogisticRegression()\n",
    "\n",
    "# Fit the logistic regression model on the training data\n",
    "logreg.fit(X_train, y_train)\n",
    "\n",
    "# Make predictions on the testing data\n",
    "y_pred = logreg.predict(X_test)\n",
    "\n",
    "# Evaluate the model\n",
    "accuracy = accuracy_score(y_test, y_pred)\n",
    "print(\"Accuracy:\", accuracy)\n",
    "\n",
    "classification_rep = classification_report(y_test, y_pred)\n",
    "print(\"Classification Report:\\n\", classification_rep)"
   ]
  },
  {
   "cell_type": "markdown",
   "id": "89704a24",
   "metadata": {},
   "source": [
    "### Observations\n",
    "- The accuracy is approximately 66.34%, which means that the model correctly predicted the class label for 66.34% \n",
    "of the total observations in the dataset.\n",
    "\n",
    "- Precision: For class 0, the precision is 0.68, which means that out of all the instances the model predicted as class 0, 68% were actually class 0. \n",
    "For class 1, the precision is 0.44, indicating that out of all the instances the model predicted as class 1, 44% were actually class 1. Precision is a measure of how well the model avoids false positives.\n",
    "\n",
    "- Recall: For class 0, the recall is 0.95, which means that the model correctly identified 95% of the instances \n",
    "that truly belonged to class 0. For class 1, the recall is 0.08, indicating that the model correctly identified \n",
    "only 8% of the instances that truly belonged to class 1. \n",
    "\n",
    "- F1-Score: Harmonic mean of precision and recall. \n",
    "For class 0, the F1-score is 0.79, and for class 1, it is 0.14.\n",
    "\n",
    "- The model has a reasonably high accuracy but has low recall for class 1, meaning it struggles to correctly \n",
    "identify instances of class 1. The precision for class 1 is also relatively low, indicating a high rate of \n",
    "false positives. The model's performance may need improvement, especially if correctly identifying class 1 \n",
    "instances is crucial."
   ]
  },
  {
   "cell_type": "code",
   "execution_count": 50,
   "id": "91fec9dd",
   "metadata": {},
   "outputs": [
    {
     "data": {
      "image/png": "[encoded data removed]",
      "text/plain": [
       "<Figure size 432x288 with 1 Axes>"
      ]
     },
     "metadata": {
      "needs_background": "light"
     },
     "output_type": "display_data"
    }
   ],
   "source": [
    "# Get the predicted probabilities for the positive class\n",
    "y_pred_proba = logreg.predict_proba(X_test)[:, 1]\n",
    "\n",
    "# Calculate the false positive rate (FPR), true positive rate (TPR), and thresholds\n",
    "fpr, tpr, thresholds = roc_curve(y_test, y_pred_proba)\n",
    "\n",
    "# Calculate the area under the ROC curve (AUC)\n",
    "auc = roc_auc_score(y_test, y_pred_proba)\n",
    "\n",
    "# Plot the ROC curve\n",
    "plt.plot(fpr, tpr, label='ROC curve (AUC = %0.2f)' % auc)\n",
    "plt.plot([0, 1], [0, 1], 'k--')  # Random guess line\n",
    "plt.xlabel('False Positive Rate')\n",
    "plt.ylabel('True Positive Rate')\n",
    "plt.title('Receiver Operating Characteristic (ROC) Curve')\n",
    "plt.legend(loc='lower right')\n",
    "plt.show()"
   ]
  },
  {
   "cell_type": "markdown",
   "id": "b7486b4c",
   "metadata": {},
   "source": [
    "### Random Forest"
   ]
  },
  {
   "cell_type": "code",
   "execution_count": 51,
   "id": "6519cfd9",
   "metadata": {},
   "outputs": [],
   "source": [
    "rf = RandomForestClassifier()"
   ]
  },
  {
   "cell_type": "code",
   "execution_count": 52,
   "id": "41e93c4e",
   "metadata": {},
   "outputs": [],
   "source": [
    "param_grid = {\n",
    "    'n_estimators': [250,300],\n",
    "    'max_depth': [20, 25,30,35],\n",
    "    'min_samples_split': [2, 5, 10],\n",
    "    'min_samples_leaf': [1, 2, 4],\n",
    "    'max_features': ['auto', 'sqrt'],\n",
    "    'bootstrap': [True, False]\n",
    "}"
   ]
  },
  {
   "cell_type": "code",
   "execution_count": 53,
   "id": "72122fb2",
   "metadata": {},
   "outputs": [],
   "source": [
    "random_search = RandomizedSearchCV(estimator=rf,param_distributions=param_grid,\n",
    "                scoring='accuracy',n_iter=3, cv=3, random_state=45)"
   ]
  },
  {
   "cell_type": "code",
   "execution_count": 54,
   "id": "64831273",
   "metadata": {},
   "outputs": [
    {
     "data": {
      "text/plain": [
       "RandomizedSearchCV(cv=3, estimator=RandomForestClassifier(), n_iter=3,\n",
       "                   param_distributions={'bootstrap': [True, False],\n",
       "                                        'max_depth': [20, 25, 30, 35],\n",
       "                                        'max_features': ['auto', 'sqrt'],\n",
       "                                        'min_samples_leaf': [1, 2, 4],\n",
       "                                        'min_samples_split': [2, 5, 10],\n",
       "                                        'n_estimators': [250, 300]},\n",
       "                   random_state=45, scoring='accuracy')"
      ]
     },
     "execution_count": 54,
     "metadata": {},
     "output_type": "execute_result"
    }
   ],
   "source": [
    "random_search.fit(X_train, y_train) "
   ]
  },
  {
   "cell_type": "code",
   "execution_count": 55,
   "id": "5f9a6c82",
   "metadata": {},
   "outputs": [
    {
     "name": "stdout",
     "output_type": "stream",
     "text": [
      "Best Hyperparameters:  {'n_estimators': 300, 'min_samples_split': 5, 'min_samples_leaf': 4, 'max_features': 'sqrt', 'max_depth': 35, 'bootstrap': True}\n"
     ]
    }
   ],
   "source": [
    "print(\"Best Hyperparameters: \", random_search.best_params_)"
   ]
  },
  {
   "cell_type": "code",
   "execution_count": 56,
   "id": "005af9e1",
   "metadata": {},
   "outputs": [
    {
     "name": "stdout",
     "output_type": "stream",
     "text": [
      "Best Accuracy Score:  1.0\n"
     ]
    }
   ],
   "source": [
    "print(\"Best Accuracy Score: \", random_search.best_score_)"
   ]
  },
  {
   "cell_type": "code",
   "execution_count": 57,
   "id": "26794250",
   "metadata": {},
   "outputs": [],
   "source": [
    "rf=RandomForestClassifier(n_estimators=300, min_samples_split=5,min_samples_leaf=4,\n",
    "                          max_depth=35, bootstrap=True,max_features='sqrt')"
   ]
  },
  {
   "cell_type": "code",
   "execution_count": 58,
   "id": "dac3a96e",
   "metadata": {},
   "outputs": [
    {
     "data": {
      "text/plain": [
       "RandomForestClassifier(max_depth=35, max_features='sqrt', min_samples_leaf=4,\n",
       "                       min_samples_split=5, n_estimators=300)"
      ]
     },
     "execution_count": 58,
     "metadata": {},
     "output_type": "execute_result"
    }
   ],
   "source": [
    "rf.fit(X_train, y_train)"
   ]
  },
  {
   "cell_type": "code",
   "execution_count": 59,
   "id": "3a37bb0c",
   "metadata": {},
   "outputs": [],
   "source": [
    "y_train_pred = rf.predict(X_train)\n",
    "y_test_pred  = rf.predict(X_test)"
   ]
  },
  {
   "cell_type": "code",
   "execution_count": 60,
   "id": "8773e32e",
   "metadata": {},
   "outputs": [
    {
     "name": "stdout",
     "output_type": "stream",
     "text": [
      "Accuracy: 0.6634059582036461\n",
      "Classification Report:\n",
      "               precision    recall  f1-score   support\n",
      "\n",
      "           0       0.68      0.95      0.79      1509\n",
      "           1       0.44      0.08      0.14       740\n",
      "\n",
      "    accuracy                           0.66      2249\n",
      "   macro avg       0.56      0.52      0.46      2249\n",
      "weighted avg       0.60      0.66      0.58      2249\n",
      "\n"
     ]
    }
   ],
   "source": [
    "# Evaluate the model\n",
    "accuracy = accuracy_score(y_test, y_pred)\n",
    "print(\"Accuracy:\", accuracy)\n",
    "\n",
    "classification_rep = classification_report(y_test, y_pred)\n",
    "print(\"Classification Report:\\n\", classification_rep)"
   ]
  },
  {
   "cell_type": "markdown",
   "id": "6d455d06",
   "metadata": {},
   "source": [
    "### Observations\n",
    "- The Random Forest model shows a relatively high accuracy and good performance for class 0 (No Claims). \n",
    "- class 1 (Claims), having low precision and recall, which may indicate a high rate of false results and missed claims.\n",
    "\n",
    "Class 0 (No Claims):\n",
    "- Precision (0.68): The model correctly identifies 68% of the instances predicted as \"No Claims\" out of all instances in that category. This suggests relatively good precision for class 0.\n",
    "- Recall (0.95): The model correctly identifies 95% of the actual \"No Claims\" instances, indicating a high recall for class 0. It is effective at finding class 0 instances.\n",
    "\n",
    "Class 1 (Claims):\n",
    "- Precision (0.44): The precision for class 1 is relatively low at 44%, meaning that out of all instances predicted as \"Claims,\" only 44% are actually \"Claims.\" This suggests a high rate of false positives.\n",
    "- Recall (0.08): The recall for class 1 is low at 8%, indicating that the model struggles to correctly identify actual \"Claims.\" It has a high rate of false negatives for class 1."
   ]
  },
  {
   "cell_type": "code",
   "execution_count": 61,
   "id": "2250b798",
   "metadata": {},
   "outputs": [],
   "source": [
    "# Get the predicted probabilities for the positive class\n",
    "y_pred_proba = rf.predict_proba(X_test)[:, 1]\n",
    "\n",
    "# Calculate the false positive rate (FPR), true positive rate (TPR), and thresholds\n",
    "fpr, tpr, thresholds = roc_curve(y_test, y_pred_proba)\n",
    "\n",
    "# Calculate the area under the ROC curve (AUC)\n",
    "auc = roc_auc_score(y_test, y_pred_proba)"
   ]
  },
  {
   "cell_type": "code",
   "execution_count": 62,
   "id": "c12f3f47",
   "metadata": {},
   "outputs": [
    {
     "data": {
      "image/png": "[encoded data removed]",
      "text/plain": [
       "<Figure size 432x288 with 1 Axes>"
      ]
     },
     "metadata": {
      "needs_background": "light"
     },
     "output_type": "display_data"
    }
   ],
   "source": [
    "# Plot the ROC curve\n",
    "plt.plot(fpr, tpr, label='ROC curve (AUC = %0.2f)' % auc)\n",
    "plt.plot([0, 1], [0, 1], 'k--')  # Random guess line\n",
    "plt.xlabel('False Positive Rate')\n",
    "plt.ylabel('True Positive Rate')\n",
    "plt.title('Receiver Operating Characteristic (ROC) Curve')\n",
    "plt.legend(loc='lower right')\n",
    "plt.show()"
   ]
  },
  {
   "cell_type": "markdown",
   "id": "b031d560",
   "metadata": {},
   "source": [
    "### Decision Tree"
   ]
  },
  {
   "cell_type": "code",
   "execution_count": 63,
   "id": "ee49d3ee",
   "metadata": {},
   "outputs": [],
   "source": [
    "# Create an instance of DecisionTreeClassifier\n",
    "tree = DecisionTreeClassifier()\n",
    "\n",
    "# Fit the decision tree model on the training data\n",
    "tree.fit(X_train, y_train)\n",
    "\n",
    "# Make predictions on the testing data\n",
    "y_pred = tree.predict(X_test)"
   ]
  },
  {
   "cell_type": "code",
   "execution_count": 64,
   "id": "c35cd134",
   "metadata": {},
   "outputs": [
    {
     "name": "stdout",
     "output_type": "stream",
     "text": [
      "Accuracy: 1.0\n",
      "Classification Report:\n",
      "               precision    recall  f1-score   support\n",
      "\n",
      "           0       1.00      1.00      1.00      1509\n",
      "           1       1.00      1.00      1.00       740\n",
      "\n",
      "    accuracy                           1.00      2249\n",
      "   macro avg       1.00      1.00      1.00      2249\n",
      "weighted avg       1.00      1.00      1.00      2249\n",
      "\n"
     ]
    }
   ],
   "source": [
    "# Evaluate the model\n",
    "accuracy = accuracy_score(y_test, y_pred)\n",
    "print(\"Accuracy:\", accuracy)\n",
    "\n",
    "classification_rep = classification_report(y_test, y_pred)\n",
    "print(\"Classification Report:\\n\", classification_rep)"
   ]
  },
  {
   "cell_type": "markdown",
   "id": "1d086d44",
   "metadata": {},
   "source": [
    "### Observations\n",
    "- The Decision Tree model achieves a perfect classification performance on the provided dataset. It correctly identifies all instances of both class 0 and class 1, resulting in perfect precision, recall, and F1-scores for both classes\n",
    "\n",
    "Class 0 (No Claims):\n",
    "- Precision (1.00): The model correctly identifies all instances predicted as \"No Claims\" out of all instances in that category. This indicates a perfect precision for class 0.\n",
    "- Recall (1.00): The model correctly identifies all the actual \"No Claims\" instances, demonstrating a perfect recall for class 0. It successfully finds all class 0 instances.\n",
    "\n",
    "Class 1 (Claims):\n",
    "- Precision (1.00): The precision for class 1 is also perfect at 1.00, meaning that out of all instances predicted as \"Claims,\" all are actually \"Claims.\" This indicates perfect precision for class 1.\n",
    "- Recall (1.00): The model correctly identifies all actual \"Claims\" instances, achieving a perfect recall for class 1. It successfully finds all class 1 instances."
   ]
  },
  {
   "cell_type": "code",
   "execution_count": 65,
   "id": "6f25f80b",
   "metadata": {},
   "outputs": [],
   "source": [
    "# Get the predicted probabilities for the positive class\n",
    "y_pred_proba = tree.predict_proba(X_test)[:, 1]\n",
    "\n",
    "# Calculate the false positive rate (FPR), true positive rate (TPR), and thresholds\n",
    "fpr, tpr, thresholds = roc_curve(y_test, y_pred_proba)\n",
    "\n",
    "# Calculate the area under the ROC curve (AUC)\n",
    "auc = roc_auc_score(y_test, y_pred_proba)"
   ]
  },
  {
   "cell_type": "code",
   "execution_count": 66,
   "id": "fa96f791",
   "metadata": {},
   "outputs": [
    {
     "data": {
      "image/png": "[encoded data removed]",
      "text/plain": [
       "<Figure size 432x288 with 1 Axes>"
      ]
     },
     "metadata": {
      "needs_background": "light"
     },
     "output_type": "display_data"
    }
   ],
   "source": [
    "# Plot the ROC curve\n",
    "plt.plot(fpr, tpr, label='ROC curve (AUC = %0.2f)' % auc)\n",
    "plt.plot([0, 1], [0, 1], 'k--')  # Random guess line\n",
    "plt.xlabel('False Positive Rate')\n",
    "plt.ylabel('True Positive Rate')\n",
    "plt.title('Receiver Operating Characteristic (ROC) Curve')\n",
    "plt.legend(loc='lower right')\n",
    "plt.show()"
   ]
  },
  {
   "cell_type": "markdown",
   "id": "05077a1d",
   "metadata": {},
   "source": [
    "### K Nearest Neighbours Classifier"
   ]
  },
  {
   "cell_type": "code",
   "execution_count": 67,
   "id": "62c54203",
   "metadata": {},
   "outputs": [],
   "source": [
    "# Create an instance of KNeighborsClassifier with the desired number of neighbors\n",
    "knn = KNeighborsClassifier(n_neighbors=5)\n",
    "\n",
    "# Fit the KNN model on the training data\n",
    "knn.fit(X_train, y_train)\n",
    "\n",
    "# Make predictions on the testing data\n",
    "y_pred = knn.predict(X_test)"
   ]
  },
  {
   "cell_type": "code",
   "execution_count": 68,
   "id": "52de4c62",
   "metadata": {},
   "outputs": [
    {
     "name": "stdout",
     "output_type": "stream",
     "text": [
      "Accuracy: 0.9862160960426857\n",
      "Classification Report:\n",
      "               precision    recall  f1-score   support\n",
      "\n",
      "           0       0.98      1.00      0.99      1509\n",
      "           1       1.00      0.96      0.98       740\n",
      "\n",
      "    accuracy                           0.99      2249\n",
      "   macro avg       0.99      0.98      0.98      2249\n",
      "weighted avg       0.99      0.99      0.99      2249\n",
      "\n"
     ]
    }
   ],
   "source": [
    "# Evaluate the model\n",
    "accuracy = accuracy_score(y_test, y_pred)\n",
    "classification_rep = classification_report(y_test, y_pred)\n",
    "\n",
    "print(\"Accuracy:\", accuracy)\n",
    "print(\"Classification Report:\\n\", classification_rep)"
   ]
  },
  {
   "cell_type": "markdown",
   "id": "2fb70609",
   "metadata": {},
   "source": [
    "### Observations\n",
    "- The K-Nearest Neighbors (KNN) model demonstrates excellent classification performance on the provided dataset. It achieves high accuracy, precision, recall, and F1-scores for both class 0 and class 1. The model is particularly effective at correctly identifying instances of class 0 and has a high rate of true positives for class 1, making it a strong performer for this classification task.\n",
    "\n",
    "Class 0 (No Claims):\n",
    "- Precision (0.98): The model correctly identifies 98% of the instances predicted as \"No Claims\" out of all instances in that category. This indicates a high precision for class 0.\n",
    "- Recall (1.00): The model correctly identifies all the actual \"No Claims\" instances, achieving a perfect recall for class 0. It successfully finds all class 0 instances.\n",
    "\n",
    "Class 1 (Claims):\n",
    "- Precision (1.00): The precision for class 1 is perfect at 1.00, meaning that out of all instances predicted as \"Claims,\" all are actually \"Claims.\" This indicates perfect precision for class 1.\n",
    "- Recall (0.96): The model correctly identifies 96% of the actual \"Claims\" instances, demonstrating a high recall for class 1. It effectively finds a large majority of class 1 instances."
   ]
  },
  {
   "cell_type": "code",
   "execution_count": 69,
   "id": "4afb11d6",
   "metadata": {},
   "outputs": [],
   "source": [
    "# Get the predicted probabilities for the positive class\n",
    "y_pred_proba = knn.predict_proba(X_test)[:, 1]\n",
    "\n",
    "# Calculate the false positive rate (FPR), true positive rate (TPR), and thresholds\n",
    "fpr, tpr, thresholds = roc_curve(y_test, y_pred_proba)\n",
    "\n",
    "# Calculate the area under the ROC curve (AUC)\n",
    "auc = roc_auc_score(y_test, y_pred_proba)"
   ]
  },
  {
   "cell_type": "code",
   "execution_count": 70,
   "id": "4c61b9cc",
   "metadata": {},
   "outputs": [
    {
     "data": {
      "image/png": "[encoded data removed]",
      "text/plain": [
       "<Figure size 432x288 with 1 Axes>"
      ]
     },
     "metadata": {
      "needs_background": "light"
     },
     "output_type": "display_data"
    }
   ],
   "source": [
    "# Plot the ROC curve\n",
    "plt.plot(fpr, tpr, label='ROC curve (AUC = %0.2f)' % auc)\n",
    "plt.plot([0, 1], [0, 1], 'k--')  # Random guess line\n",
    "plt.xlabel('False Positive Rate')\n",
    "plt.ylabel('True Positive Rate')\n",
    "plt.title('Receiver Operating Characteristic (ROC) Curve')\n",
    "plt.legend(loc='lower right')\n",
    "plt.show()"
   ]
  },
  {
   "cell_type": "markdown",
   "id": "f36ef0fd",
   "metadata": {},
   "source": [
    "### Naive Bayes Classifier"
   ]
  },
  {
   "cell_type": "code",
   "execution_count": 71,
   "id": "c3bca3df",
   "metadata": {},
   "outputs": [],
   "source": [
    "# Create an instance of Gaussian Naive Bayes classifier\n",
    "naive_bayes = GaussianNB()\n",
    "\n",
    "# Fit the Naive Bayes model on the training data\n",
    "naive_bayes.fit(X_train, y_train)\n",
    "\n",
    "# Make predictions on the testing data\n",
    "y_pred = naive_bayes.predict(X_test)"
   ]
  },
  {
   "cell_type": "code",
   "execution_count": 72,
   "id": "fadf3689",
   "metadata": {},
   "outputs": [
    {
     "name": "stdout",
     "output_type": "stream",
     "text": [
      "Accuracy: 0.9911071587372166\n",
      "Classification Report:\n",
      "               precision    recall  f1-score   support\n",
      "\n",
      "           0       0.99      1.00      0.99      1509\n",
      "           1       1.00      0.97      0.99       740\n",
      "\n",
      "    accuracy                           0.99      2249\n",
      "   macro avg       0.99      0.99      0.99      2249\n",
      "weighted avg       0.99      0.99      0.99      2249\n",
      "\n"
     ]
    }
   ],
   "source": [
    "# Evaluate the model\n",
    "accuracy = accuracy_score(y_test, y_pred)\n",
    "classification_rep = classification_report(y_test, y_pred)\n",
    "\n",
    "print(\"Accuracy:\", accuracy)\n",
    "print(\"Classification Report:\\n\", classification_rep)"
   ]
  },
  {
   "cell_type": "markdown",
   "id": "f7f7cfb7",
   "metadata": {},
   "source": [
    "### Observations\n",
    "- The Naive Bayes model demonstrates exceptional classification performance on the provided dataset. It achieves extremely high accuracy, precision, recall, and F1-scores for both class 0 and class 1. The model is particularly effective at correctly identifying instances of both class 0 and class 1, making it a robust performer for this classification task.\n",
    "\n",
    "Class 0 (No Claims):\n",
    "- Precision (0.99): The model correctly identifies 99% of the instances predicted as \"No Claims\" out of all instances in that category. This indicates a high precision for class 0.\n",
    "- Recall (1.00): The model correctly identifies all the actual \"No Claims\" instances, achieving a perfect recall for class 0. It successfully finds all class 0 instances.\n",
    "\n",
    "Class 1 (Claims):\n",
    "- Precision (1.00): The precision for class 1 is perfect at 1.00, meaning that out of all instances predicted as \"Claims,\" all are actually \"Claims.\" This indicates perfect precision for class 1.\n",
    "- Recall (0.97): The model correctly identifies 97% of the actual \"Claims\" instances, demonstrating a high recall for class 1. It effectively finds the majority of class 1 instances."
   ]
  },
  {
   "cell_type": "code",
   "execution_count": 73,
   "id": "4ad2f081",
   "metadata": {},
   "outputs": [],
   "source": [
    "# Get the predicted probabilities for the positive class\n",
    "y_pred_proba = naive_bayes.predict_proba(X_test)[:, 1]\n",
    "\n",
    "# Calculate the false positive rate (FPR), true positive rate (TPR), and thresholds\n",
    "fpr, tpr, thresholds = roc_curve(y_test, y_pred_proba)\n",
    "\n",
    "# Calculate the area under the ROC curve (AUC)\n",
    "auc = roc_auc_score(y_test, y_pred_proba)\n"
   ]
  },
  {
   "cell_type": "code",
   "execution_count": 74,
   "id": "739bccd1",
   "metadata": {},
   "outputs": [
    {
     "data": {
      "image/png": "[encoded data removed]",
      "text/plain": [
       "<Figure size 432x288 with 1 Axes>"
      ]
     },
     "metadata": {
      "needs_background": "light"
     },
     "output_type": "display_data"
    }
   ],
   "source": [
    "# Plot the ROC curve\n",
    "plt.plot(fpr, tpr, label='ROC curve (AUC = %0.2f)' % auc)\n",
    "plt.plot([0, 1], [0, 1], 'k--')  # Random guess line\n",
    "plt.xlabel('False Positive Rate')\n",
    "plt.ylabel('True Positive Rate')\n",
    "plt.title('Receiver Operating Characteristic (ROC) Curve')\n",
    "plt.legend(loc='lower right')\n",
    "plt.show()"
   ]
  },
  {
   "cell_type": "code",
   "execution_count": 75,
   "id": "ff51572e",
   "metadata": {},
   "outputs": [],
   "source": [
    "# Define the models and their respective parameter grids\n",
    "models = [\n",
    "    (\"Logistic Regression\", LogisticRegression(), {}),\n",
    "    (\"Random Forest\", RandomForestClassifier(), {}),\n",
    "    (\"Decision Tree\", DecisionTreeClassifier(), {}),\n",
    "    (\"KNN\", KNeighborsClassifier(), {}),\n",
    "    (\"Naive Bayes\", GaussianNB(), {})\n",
    "]\n",
    "\n",
    "best_model = None\n",
    "best_accuracy = 0"
   ]
  },
  {
   "cell_type": "code",
   "execution_count": 76,
   "id": "6540202d",
   "metadata": {},
   "outputs": [
    {
     "name": "stdout",
     "output_type": "stream",
     "text": [
      "Model: Logistic Regression\n",
      "Best Accuracy: 0.7765548637775114\n",
      "Model: Random Forest\n",
      "Best Accuracy: 1.0\n",
      "Model: Decision Tree\n",
      "Best Accuracy: 1.0\n",
      "Model: KNN\n",
      "Best Accuracy: 0.9776545854770506\n",
      "Model: Naive Bayes\n",
      "Best Accuracy: 0.988994293035044\n",
      "\n",
      "Best Model based on Accuracy: RandomForestClassifier()\n"
     ]
    }
   ],
   "source": [
    "# Iterate over each model\n",
    "for name, model, params in models:\n",
    "    random_search = RandomizedSearchCV(estimator=model, param_distributions=params,\n",
    "                                       scoring='accuracy', n_iter=3, cv=3, random_state=45)\n",
    "    random_search.fit(X_train, y_train)\n",
    "    accuracy = random_search.best_score_\n",
    "\n",
    "    print(f\"Model: {name}\")\n",
    "    print(f\"Best Accuracy: {accuracy}\")\n",
    "    \n",
    "    if accuracy > best_accuracy:\n",
    "        best_accuracy = accuracy\n",
    "        best_model = model\n",
    "\n",
    "print(f\"\\nBest Model based on Accuracy: {best_model}\")"
   ]
  },
  {
   "cell_type": "markdown",
   "id": "4654f4fa",
   "metadata": {},
   "source": [
    "### Random Forest Classifier"
   ]
  },
  {
   "cell_type": "code",
   "execution_count": 77,
   "id": "96ffa092",
   "metadata": {},
   "outputs": [],
   "source": [
    "rf = RandomForestClassifier()"
   ]
  },
  {
   "cell_type": "code",
   "execution_count": 78,
   "id": "dc7e324b",
   "metadata": {},
   "outputs": [],
   "source": [
    "param_grid = {\n",
    "    'n_estimators': [250,300],\n",
    "    'max_depth': [20, 25,30,35],\n",
    "    'min_samples_split': [2, 5, 10],\n",
    "    'min_samples_leaf': [1, 2, 4],\n",
    "    'max_features': ['auto', 'sqrt'],\n",
    "    'bootstrap': [True, False]\n",
    "}"
   ]
  },
  {
   "cell_type": "code",
   "execution_count": 79,
   "id": "066706b9",
   "metadata": {},
   "outputs": [],
   "source": [
    "random_search = RandomizedSearchCV(estimator=rf,param_distributions=param_grid,\n",
    "                scoring='accuracy',n_iter=3, cv=3, random_state=45)"
   ]
  },
  {
   "cell_type": "code",
   "execution_count": 80,
   "id": "7f22f046",
   "metadata": {},
   "outputs": [
    {
     "data": {
      "text/plain": [
       "RandomizedSearchCV(cv=3, estimator=RandomForestClassifier(), n_iter=3,\n",
       "                   param_distributions={'bootstrap': [True, False],\n",
       "                                        'max_depth': [20, 25, 30, 35],\n",
       "                                        'max_features': ['auto', 'sqrt'],\n",
       "                                        'min_samples_leaf': [1, 2, 4],\n",
       "                                        'min_samples_split': [2, 5, 10],\n",
       "                                        'n_estimators': [250, 300]},\n",
       "                   random_state=45, scoring='accuracy')"
      ]
     },
     "execution_count": 80,
     "metadata": {},
     "output_type": "execute_result"
    }
   ],
   "source": [
    "random_search.fit(X_train, y_train) "
   ]
  },
  {
   "cell_type": "code",
   "execution_count": 81,
   "id": "3e55b4a0",
   "metadata": {},
   "outputs": [
    {
     "name": "stdout",
     "output_type": "stream",
     "text": [
      "Best Hyperparameters:  {'n_estimators': 300, 'min_samples_split': 5, 'min_samples_leaf': 4, 'max_features': 'sqrt', 'max_depth': 35, 'bootstrap': True}\n"
     ]
    }
   ],
   "source": [
    "print(\"Best Hyperparameters: \", random_search.best_params_)"
   ]
  },
  {
   "cell_type": "code",
   "execution_count": 82,
   "id": "85fa043a",
   "metadata": {},
   "outputs": [
    {
     "name": "stdout",
     "output_type": "stream",
     "text": [
      "Best Accuracy Score:  1.0\n"
     ]
    }
   ],
   "source": [
    "print(\"Best Accuracy Score: \", random_search.best_score_)"
   ]
  },
  {
   "cell_type": "code",
   "execution_count": 83,
   "id": "747d1f33",
   "metadata": {},
   "outputs": [],
   "source": [
    "rf=RandomForestClassifier(n_estimators=300, min_samples_split=5,min_samples_leaf=4,\n",
    "                          max_depth=35, bootstrap=True,max_features='sqrt')"
   ]
  },
  {
   "cell_type": "code",
   "execution_count": 84,
   "id": "99642e5e",
   "metadata": {},
   "outputs": [
    {
     "data": {
      "text/plain": [
       "RandomForestClassifier(max_depth=35, max_features='sqrt', min_samples_leaf=4,\n",
       "                       min_samples_split=5, n_estimators=300)"
      ]
     },
     "execution_count": 84,
     "metadata": {},
     "output_type": "execute_result"
    }
   ],
   "source": [
    "rf.fit(X_train, y_train)"
   ]
  },
  {
   "cell_type": "code",
   "execution_count": 85,
   "id": "f36b9005",
   "metadata": {},
   "outputs": [],
   "source": [
    "y_train_pred = rf.predict(X_train)\n",
    "y_test_pred  = rf.predict(X_test)"
   ]
  },
  {
   "cell_type": "code",
   "execution_count": 86,
   "id": "8c631912",
   "metadata": {},
   "outputs": [
    {
     "name": "stdout",
     "output_type": "stream",
     "text": [
      "Accuracy: 0.9911071587372166\n",
      "Classification Report:\n",
      "               precision    recall  f1-score   support\n",
      "\n",
      "           0       0.99      1.00      0.99      1509\n",
      "           1       1.00      0.97      0.99       740\n",
      "\n",
      "    accuracy                           0.99      2249\n",
      "   macro avg       0.99      0.99      0.99      2249\n",
      "weighted avg       0.99      0.99      0.99      2249\n",
      "\n"
     ]
    }
   ],
   "source": [
    "# Classification report for random forest\n",
    "accuracy = accuracy_score(y_test, y_pred)\n",
    "print(\"Accuracy:\", accuracy)\n",
    "\n",
    "classification_rep = classification_report(y_test, y_pred)\n",
    "print(\"Classification Report:\\n\", classification_rep)"
   ]
  },
  {
   "cell_type": "markdown",
   "id": "1f0bb3be",
   "metadata": {},
   "source": [
    "### Observations\n",
    "- It demonstrates an ability to effectively identify both class 0 and class 1 instances while maintaining a very low rate of false positives. This indicates that the model is a robust performer for the classification task and is well-suited for applications where precision and recall are critical.\n",
    "\n",
    "Class 0 (No Claims):\n",
    "- Precision (0.99): The model correctly identifies 99% of the instances predicted as \"No Claims\" out of all instances in that category. This suggests that the model has an extremely low rate of false positives for class 0.\n",
    "- Recall (1.00): The model correctly identifies all the actual \"No Claims\" instances, achieving a perfect recall for class 0. It effectively finds all class 0 instances.\n",
    "\n",
    "Class 1 (Claims):\n",
    "- Precision (1.00): The precision for class 1 is perfect at 1.00, indicating that out of all instances predicted as \"Claims,\" all are actually \"Claims.\" This implies that there are no false positives for class 1.\n",
    "- Recall (0.97): The model correctly identifies 97% of the actual \"Claims\" instances, demonstrating a high recall for class 1. It effectively finds the majority of class 1 instances."
   ]
  },
  {
   "cell_type": "code",
   "execution_count": 87,
   "id": "a3d64f2b",
   "metadata": {},
   "outputs": [
    {
     "data": {
      "image/png": "[encoded data removed]",
      "text/plain": [
       "<Figure size 432x288 with 2 Axes>"
      ]
     },
     "metadata": {
      "needs_background": "light"
     },
     "output_type": "display_data"
    }
   ],
   "source": [
    "def plot_confusion_matrix(y_true, y_pred, classes):\n",
    "    cm = confusion_matrix(y_true, y_pred)\n",
    "    plt.imshow(cm, interpolation='nearest', cmap=plt.cm.Blues)\n",
    "    plt.title('Confusion Matrix')\n",
    "    plt.colorbar()\n",
    "    tick_marks = np.arange(len(classes))\n",
    "    plt.xticks(tick_marks, classes, rotation=45)\n",
    "    plt.yticks(tick_marks, classes)\n",
    "    \n",
    "    fmt = 'd'    \n",
    "    thresh = cm.max() / 2.\n",
    "    for i, j in itertools.product(range(cm.shape[0]), range(cm.shape[1])):\n",
    "        plt.text(j, i, format(cm[i, j], fmt),\n",
    "                 horizontalalignment='center',\n",
    "                 color='white' if cm[i, j] > thresh else 'black')\n",
    "    \n",
    "    plt.ylabel('True label')\n",
    "    plt.xlabel('Predicted label')\n",
    "    plt.tight_layout()\n",
    "\n",
    "plot_confusion_matrix(y_test, y_pred, classes=['Class 0', 'Class 1'])\n",
    "plt.show()"
   ]
  },
  {
   "cell_type": "code",
   "execution_count": 88,
   "id": "457d258e",
   "metadata": {},
   "outputs": [],
   "source": [
    "# Get the predicted probabilities for the positive class\n",
    "y_pred_proba = rf.predict_proba(X_test)[:, 1]\n",
    "\n",
    "# Calculate the false positive rate (FPR), true positive rate (TPR), and thresholds\n",
    "fpr, tpr, thresholds = roc_curve(y_test, y_pred_proba)\n",
    "\n",
    "# Calculate the area under the ROC curve (AUC)\n",
    "auc = roc_auc_score(y_test, y_pred_proba)"
   ]
  },
  {
   "cell_type": "code",
   "execution_count": 89,
   "id": "098237a1",
   "metadata": {},
   "outputs": [
    {
     "data": {
      "image/png": "[encoded data removed]",
      "text/plain": [
       "<Figure size 432x288 with 1 Axes>"
      ]
     },
     "metadata": {
      "needs_background": "light"
     },
     "output_type": "display_data"
    }
   ],
   "source": [
    "# Plot the ROC curve\n",
    "plt.plot(fpr, tpr, label='ROC curve (AUC = %0.2f)' % auc)\n",
    "plt.plot([0, 1], [0, 1], 'k--')  # Random guess line\n",
    "plt.xlabel('False Positive Rate')\n",
    "plt.ylabel('True Positive Rate')\n",
    "plt.title('Receiver Operating Characteristic (ROC) Curve')\n",
    "plt.legend(loc='lower right')\n",
    "plt.show()"
   ]
  },
  {
   "cell_type": "markdown",
   "id": "6db33a6a",
   "metadata": {},
   "source": [
    "# Result:\n",
    "- From the above confusion matrix, we can observe that the majority of data instances are situated on the main diagonal, representing true positive and true negative values. This indicates that the model correctly predicted that insurance claims labeled as 'passed' were indeed approved, and nearly all claims labeled as 'not passed' were correctly identified as not approved. There were only 20 instances where the model incorrectly predicted a claim to be approved when it was not, resulting in an accuracy rate of nearly 100%."
   ]
  }
 ],
 "metadata": {
  "kernelspec": {
   "display_name": "Python 3 (ipykernel)",
   "language": "python",
   "name": "python3"
  },
  "language_info": {
   "codemirror_mode": {
    "name": "ipython",
    "version": 3
   },
   "file_extension": ".py",
   "mimetype": "text/x-python",
   "name": "python",
   "nbconvert_exporter": "python",
   "pygments_lexer": "ipython3",
   "version": "3.9.12"
  }
 },
 "nbformat": 4,
 "nbformat_minor": 5
}
